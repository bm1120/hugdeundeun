{
 "cells": [
  {
   "cell_type": "code",
   "execution_count": null,
   "id": "84793b0f-c165-4e39-84bf-9cbc615c9488",
   "metadata": {},
   "outputs": [],
   "source": [
    "import geopandas as gpd\n",
    "import pandas as pd\n",
    "import folium\n",
    "import pyproj\n",
    "from shapely.geometry import Point\n",
    "import shapely\n",
    "import matplotlib.pyplot as plt\n",
    "import re\n",
    "from tqdm.notebook import tqdm\n",
    "import numpy as np\n",
    "import seaborn as sns"
   ]
  },
  {
   "cell_type": "code",
   "execution_count": null,
   "id": "84e5c0f2-f58b-4195-8bb2-bebd0409700d",
   "metadata": {},
   "outputs": [],
   "source": [
    "import matplotlib.font_manager as fm\n",
    "import matplotlib as mpl\n",
    "\n",
    "fm.fontManager.addfont('config/NanumSquareR.ttf')\n",
    "prop = fm.FontProperties(fname='config/NanumSquareR.ttf')\n",
    "\n",
    "plt.rcParams['font.family'] = 'sans-serif'\n",
    "plt.rcParams['font.sans-serif'] = prop.get_name()\n",
    "plt.rcParams['axes.unicode_minus'] = False\n",
    "\n",
    "box_kwargs = dict(boxprops=dict(alpha=0.5), fliersize = 0)\n",
    "strip_kwargs = dict(size=10)\n",
    "bar_kwargs = dict(capsize = 0.1)\n",
    "cormap_kwargs = dict(annot = True, cmap='coolwarm', vmin=-1, vmax=1)"
   ]
  },
  {
   "cell_type": "code",
   "execution_count": null,
   "id": "43ac6ff2-2847-43b2-97a9-695bfb5bb2fd",
   "metadata": {},
   "outputs": [],
   "source": [
    "processing_data = pd.read_csv('data/data_241007.csv')"
   ]
  },
  {
   "cell_type": "code",
   "execution_count": null,
   "id": "e67491f4-6c59-4754-b5de-58f6099586be",
   "metadata": {
    "scrolled": true
   },
   "outputs": [],
   "source": [
    "processing_final = processing_data.copy()\n",
    "\n",
    "processing_geo = gpd.GeoDataFrame(processing_final.assign(geometry = lambda df:df.apply(lambda row:shapely.geometry.Point((row.y, row.x)), axis=1)))\n",
    "sgg_select = processing_geo.filter(regex='시도|시군구').drop_duplicates()\\\n",
    ".apply(lambda row: f\"{row['시도']} {row['시군구'].split()[-1]}\" if \"부천\" not in row['시군구'] \n",
    "       else f\"{row['시도']} {' '.join(row['시군구'].split()[1:])}\" , axis=1).tolist()"
   ]
  },
  {
   "cell_type": "code",
   "execution_count": null,
   "id": "59cd3985-14e0-4a15-b0cb-16a8cb66d3fc",
   "metadata": {},
   "outputs": [],
   "source": [
    "seoul_geo = gpd.read_file('data/seoul_geo/LARD_ADM_SECT_SGG_11_202405.shx', encoding = 'cp949').query(\"SGG_NM in @sgg_select\").to_crs('4326')\n",
    "gyeonggi_geo = gpd.read_file('data/gyeonggi_geo/LARD_ADM_SECT_SGG_41_202405.shx', encoding = 'cp949').query(\"SGG_NM in @sgg_select\").to_crs('4326')\n",
    "incheon_geo = gpd.read_file('data/incheon_geo/LARD_ADM_SECT_SGG_28_202405.shx', encoding = 'cp949').query(\"SGG_NM in @sgg_select\").to_crs('4326')"
   ]
  },
  {
   "cell_type": "code",
   "execution_count": null,
   "id": "7feab41a-5139-4de8-a2be-5853ccc9ba8c",
   "metadata": {},
   "outputs": [],
   "source": [
    "total_geo = shapely.union_all([shapely.union_all(seoul_geo.geometry.values), shapely.union_all(incheon_geo.geometry.values), shapely.union_all(gyeonggi_geo.geometry.values)])"
   ]
  },
  {
   "cell_type": "code",
   "execution_count": null,
   "id": "0332b0b4-1954-4d61-86b4-4bf6e731825c",
   "metadata": {},
   "outputs": [],
   "source": [
    "## V-world api\n",
    "# def find_coordinates(address, search_type ='road'):\n",
    "#     import time\n",
    "#     import requests\n",
    "#     # time.sleep(1)\n",
    "#     apiurl = \"https://api.vworld.kr/req/address?\"\n",
    "#     params = {\n",
    "#     \t\"service\": \"address\",\n",
    "#     \t\"request\": \"getcoord\",\n",
    "#     \t\"crs\": \"epsg:5186\",\n",
    "#     \t\"address\": address,\n",
    "#     \t\"format\": \"json\",\n",
    "#     \t\"type\": search_type,\n",
    "#     \t\"key\": \"{vworld-key}\"\n",
    "#     }\n",
    "#     response = requests.get(apiurl, params=params)\n",
    "#     if response.status_code == 200:\n",
    "#         result = response.json()['response']\n",
    "#         # print(result)\n",
    "#         if 'result' in result.keys():\n",
    "#             return result['result']['point']['x'], result['result']['point']['y']\n",
    "#         else:\n",
    "#             print(address)\n",
    "#             return 0,0\n",
    "#     else:\n",
    "#         print(response.status_code)\n",
    "#         print(address)\n",
    "#         return 0,0\n",
    "\n",
    "## kakao map api\n",
    "import requests\n",
    "def set_rest_api(rest_api_token):\n",
    "    def convert_address_to_coordinates(address):\n",
    "        \"\"\"\n",
    "        입력받은 주소를 WGS84 좌표계 좌표로 변환(카카오맵api)\n",
    "        \"\"\"\n",
    "    \n",
    "        url = 'https://dapi.kakao.com/v2/local/search/address.json?query=' + address\n",
    "        \n",
    "        header = {'Authorization': 'KakaoAK ' + rest_api_token}\n",
    "     \n",
    "        r = requests.get(url, headers=header)\n",
    "        \n",
    "        if (r.status_code == 200) and len(r.json()[\"documents\"])>0:\n",
    "            lng = float(r.json()[\"documents\"][0][\"address\"]['x'])\n",
    "            lat = float(r.json()[\"documents\"][0][\"address\"]['y'])\n",
    "        else:\n",
    "            return None\n",
    "        return lat, lng\n",
    "        \n",
    "    return convert_address_to_coordinates\n",
    "\n",
    "kakao_api_key = \"\"\n",
    "convert_address_to_coordinates = set_rest_api(kakao_api_key)\n",
    "\n",
    "def find_coordi(address_):\n",
    "    output = convert_address_to_coordinates(address_[0])\n",
    "    return output if output else convert_address_to_coordinates(address_[1])"
   ]
  },
  {
   "cell_type": "code",
   "execution_count": null,
   "id": "00ddd506",
   "metadata": {},
   "outputs": [],
   "source": [
    "import glob\n",
    "stations = glob.glob('data/stations/*.xlsx')"
   ]
  },
  {
   "cell_type": "code",
   "execution_count": null,
   "id": "1299cf98",
   "metadata": {},
   "outputs": [
    {
     "data": {
      "text/plain": [
       "['data/stations/공항철도_역사정보_20240529.xlsx',\n",
       " 'data/stations/남서울경전철_역사정보_20240604.xlsx',\n",
       " 'data/stations/서울교통공사_역사정보_20240529.xlsx',\n",
       " 'data/stations/서울메트로9호선_역사정보_20240603.xlsx',\n",
       " 'data/stations/신분당선_역사정보_20240605.xlsx',\n",
       " 'data/stations/용인경량전철_역사정보_20240530.xlsx',\n",
       " 'data/stations/인천교통공사_역사정보_20240528.xlsx',\n",
       " 'data/stations/지티엑스에이운영_역사정보_20240418.xlsx',\n",
       " 'data/stations/한국철도공사_역사정보_20240610.xlsx']"
      ]
     },
     "metadata": {},
     "output_type": "display_data"
    }
   ],
   "source": [
    "stations"
   ]
  },
  {
   "cell_type": "code",
   "execution_count": null,
   "id": "410a6ba5",
   "metadata": {},
   "outputs": [],
   "source": [
    "stations_f0 = pd.read_excel(stations[-1]).filter(regex='운영노선|역명\\(한글\\)|역 주소')\n",
    "total_stations = pd.concat([pd.read_excel(xls_f, skiprows=3).filter(regex='운영노선|역명\\(한글\\)|주소') for xls_f in stations[:-1]]+[stations_f0])"
   ]
  },
  {
   "cell_type": "code",
   "execution_count": null,
   "id": "14a157f3",
   "metadata": {},
   "outputs": [
    {
     "data": {
      "text/html": [
       "<div>\n",
       "<style scoped>\n",
       "    .dataframe tbody tr th:only-of-type {\n",
       "        vertical-align: middle;\n",
       "    }\n",
       "\n",
       "    .dataframe tbody tr th {\n",
       "        vertical-align: top;\n",
       "    }\n",
       "\n",
       "    .dataframe thead th {\n",
       "        text-align: right;\n",
       "    }\n",
       "</style>\n",
       "<table border=\"1\" class=\"dataframe\">\n",
       "  <thead>\n",
       "    <tr style=\"text-align: right;\">\n",
       "      <th></th>\n",
       "      <th>운영노선</th>\n",
       "      <th>역명(한글)</th>\n",
       "      <th>역 주소(지번주소)</th>\n",
       "      <th>역 주소(도로명 주소)</th>\n",
       "    </tr>\n",
       "  </thead>\n",
       "  <tbody>\n",
       "    <tr>\n",
       "      <th>0</th>\n",
       "      <td>공항철도선</td>\n",
       "      <td>서울역</td>\n",
       "      <td>NaN</td>\n",
       "      <td>서울특별시 용산구 청파로 378 (동자동) 공항철도 서울역</td>\n",
       "    </tr>\n",
       "    <tr>\n",
       "      <th>1</th>\n",
       "      <td>공항철도선</td>\n",
       "      <td>공덕</td>\n",
       "      <td>NaN</td>\n",
       "      <td>서울특별시 마포구 마포대로 지하 92(도화동) 공항철도 공덕역</td>\n",
       "    </tr>\n",
       "    <tr>\n",
       "      <th>2</th>\n",
       "      <td>공항철도선</td>\n",
       "      <td>홍대입구</td>\n",
       "      <td>NaN</td>\n",
       "      <td>서울특별시 마포구 양화로 지하 188(동교동) 공항철도 홍대입구역</td>\n",
       "    </tr>\n",
       "    <tr>\n",
       "      <th>3</th>\n",
       "      <td>공항철도선</td>\n",
       "      <td>디지털미디어시티(스카이라이프)</td>\n",
       "      <td>NaN</td>\n",
       "      <td>서울특별시 마포구 성암로 지하 184(상암동) 공항철도 디지털미디어시티역</td>\n",
       "    </tr>\n",
       "    <tr>\n",
       "      <th>4</th>\n",
       "      <td>공항철도선</td>\n",
       "      <td>마곡나루</td>\n",
       "      <td>NaN</td>\n",
       "      <td>서울특별시 강서구 마곡중앙로 지하 135(마곡동)</td>\n",
       "    </tr>\n",
       "    <tr>\n",
       "      <th>...</th>\n",
       "      <td>...</td>\n",
       "      <td>...</td>\n",
       "      <td>...</td>\n",
       "      <td>...</td>\n",
       "    </tr>\n",
       "    <tr>\n",
       "      <th>296</th>\n",
       "      <td>1호선</td>\n",
       "      <td>화서</td>\n",
       "      <td>NaN</td>\n",
       "      <td>경기도 수원시 팔달구 덕영대로 692  _x000D_</td>\n",
       "    </tr>\n",
       "    <tr>\n",
       "      <th>297</th>\n",
       "      <td>3호선</td>\n",
       "      <td>화정역</td>\n",
       "      <td>경기도 고양시 덕양구 화정동 1098</td>\n",
       "      <td>경기도 고양시 덕양구 화정로 60</td>\n",
       "    </tr>\n",
       "    <tr>\n",
       "      <th>298</th>\n",
       "      <td>1호선</td>\n",
       "      <td>회기역</td>\n",
       "      <td>서울특별시 동대문구 휘경동 317-101</td>\n",
       "      <td>서울특별시 동대문구 회기로 196(휘경동)</td>\n",
       "    </tr>\n",
       "    <tr>\n",
       "      <th>299</th>\n",
       "      <td>1호선</td>\n",
       "      <td>회룡</td>\n",
       "      <td>경기도 의정부시 호원동 50-5(회룡역)</td>\n",
       "      <td>경기도 의정부시 평화로 363(회룡역)</td>\n",
       "    </tr>\n",
       "    <tr>\n",
       "      <th>300</th>\n",
       "      <td>경의중앙선</td>\n",
       "      <td>효창공원앞역</td>\n",
       "      <td>서울특별시 용산구 용문동5-3</td>\n",
       "      <td>서울특별시 용산구 원효로71길 42-1</td>\n",
       "    </tr>\n",
       "  </tbody>\n",
       "</table>\n",
       "<p>729 rows × 4 columns</p>\n",
       "</div>"
      ],
      "text/plain": [
       "      운영노선            역명(한글)              역 주소(지번주소)  \\\n",
       "0    공항철도선               서울역                     NaN   \n",
       "1    공항철도선                공덕                     NaN   \n",
       "2    공항철도선              홍대입구                     NaN   \n",
       "3    공항철도선  디지털미디어시티(스카이라이프)                     NaN   \n",
       "4    공항철도선              마곡나루                     NaN   \n",
       "..     ...               ...                     ...   \n",
       "296    1호선                화서                     NaN   \n",
       "297    3호선               화정역   경기도 고양시 덕양구 화정동 1098    \n",
       "298    1호선               회기역  서울특별시 동대문구 휘경동 317-101   \n",
       "299    1호선                회룡  경기도 의정부시 호원동 50-5(회룡역)   \n",
       "300  경의중앙선            효창공원앞역        서울특별시 용산구 용문동5-3   \n",
       "\n",
       "                                 역 주소(도로명 주소)  \n",
       "0            서울특별시 용산구 청파로 378 (동자동) 공항철도 서울역  \n",
       "1          서울특별시 마포구 마포대로 지하 92(도화동) 공항철도 공덕역  \n",
       "2        서울특별시 마포구 양화로 지하 188(동교동) 공항철도 홍대입구역  \n",
       "3    서울특별시 마포구 성암로 지하 184(상암동) 공항철도 디지털미디어시티역  \n",
       "4                 서울특별시 강서구 마곡중앙로 지하 135(마곡동)  \n",
       "..                                        ...  \n",
       "296             경기도 수원시 팔달구 덕영대로 692  _x000D_  \n",
       "297                        경기도 고양시 덕양구 화정로 60  \n",
       "298                   서울특별시 동대문구 회기로 196(휘경동)  \n",
       "299                     경기도 의정부시 평화로 363(회룡역)  \n",
       "300                     서울특별시 용산구 원효로71길 42-1  \n",
       "\n",
       "[729 rows x 4 columns]"
      ]
     },
     "metadata": {},
     "output_type": "display_data"
    }
   ],
   "source": [
    "total_stations"
   ]
  },
  {
   "cell_type": "code",
   "execution_count": null,
   "id": "8b4b6d91",
   "metadata": {},
   "outputs": [],
   "source": [
    "stations_f = total_stations.assign(\n",
    "    address = lambda df: df.apply(lambda row: row['역 주소(지번주소)'] if type(row['역 주소(도로명 주소)']) == float else row['역 주소(도로명 주소)'],axis=1),\n",
    "    filter_YN = lambda df: df.address.apply(lambda y: False if type(y) ==float else  (True if re.search('서울|경기|인천|구리|고양|교양|수원', y) else False))\n",
    ").query('filter_YN')"
   ]
  },
  {
   "cell_type": "code",
   "execution_count": null,
   "id": "f4d81c37",
   "metadata": {},
   "outputs": [
    {
     "data": {
      "text/html": [
       "<div>\n",
       "<style scoped>\n",
       "    .dataframe tbody tr th:only-of-type {\n",
       "        vertical-align: middle;\n",
       "    }\n",
       "\n",
       "    .dataframe tbody tr th {\n",
       "        vertical-align: top;\n",
       "    }\n",
       "\n",
       "    .dataframe thead th {\n",
       "        text-align: right;\n",
       "    }\n",
       "</style>\n",
       "<table border=\"1\" class=\"dataframe\">\n",
       "  <thead>\n",
       "    <tr style=\"text-align: right;\">\n",
       "      <th></th>\n",
       "      <th>운영노선</th>\n",
       "      <th>역명(한글)</th>\n",
       "      <th>역 주소(지번주소)</th>\n",
       "      <th>역 주소(도로명 주소)</th>\n",
       "      <th>address</th>\n",
       "      <th>filter_YN</th>\n",
       "    </tr>\n",
       "  </thead>\n",
       "  <tbody>\n",
       "    <tr>\n",
       "      <th>0</th>\n",
       "      <td>공항철도선</td>\n",
       "      <td>서울역</td>\n",
       "      <td>NaN</td>\n",
       "      <td>서울특별시 용산구 청파로 378 (동자동) 공항철도 서울역</td>\n",
       "      <td>서울특별시 용산구 청파로 378 (동자동) 공항철도 서울역</td>\n",
       "      <td>True</td>\n",
       "    </tr>\n",
       "    <tr>\n",
       "      <th>1</th>\n",
       "      <td>공항철도선</td>\n",
       "      <td>공덕</td>\n",
       "      <td>NaN</td>\n",
       "      <td>서울특별시 마포구 마포대로 지하 92(도화동) 공항철도 공덕역</td>\n",
       "      <td>서울특별시 마포구 마포대로 지하 92(도화동) 공항철도 공덕역</td>\n",
       "      <td>True</td>\n",
       "    </tr>\n",
       "    <tr>\n",
       "      <th>2</th>\n",
       "      <td>공항철도선</td>\n",
       "      <td>홍대입구</td>\n",
       "      <td>NaN</td>\n",
       "      <td>서울특별시 마포구 양화로 지하 188(동교동) 공항철도 홍대입구역</td>\n",
       "      <td>서울특별시 마포구 양화로 지하 188(동교동) 공항철도 홍대입구역</td>\n",
       "      <td>True</td>\n",
       "    </tr>\n",
       "    <tr>\n",
       "      <th>3</th>\n",
       "      <td>공항철도선</td>\n",
       "      <td>디지털미디어시티(스카이라이프)</td>\n",
       "      <td>NaN</td>\n",
       "      <td>서울특별시 마포구 성암로 지하 184(상암동) 공항철도 디지털미디어시티역</td>\n",
       "      <td>서울특별시 마포구 성암로 지하 184(상암동) 공항철도 디지털미디어시티역</td>\n",
       "      <td>True</td>\n",
       "    </tr>\n",
       "    <tr>\n",
       "      <th>4</th>\n",
       "      <td>공항철도선</td>\n",
       "      <td>마곡나루</td>\n",
       "      <td>NaN</td>\n",
       "      <td>서울특별시 강서구 마곡중앙로 지하 135(마곡동)</td>\n",
       "      <td>서울특별시 강서구 마곡중앙로 지하 135(마곡동)</td>\n",
       "      <td>True</td>\n",
       "    </tr>\n",
       "    <tr>\n",
       "      <th>...</th>\n",
       "      <td>...</td>\n",
       "      <td>...</td>\n",
       "      <td>...</td>\n",
       "      <td>...</td>\n",
       "      <td>...</td>\n",
       "      <td>...</td>\n",
       "    </tr>\n",
       "    <tr>\n",
       "      <th>296</th>\n",
       "      <td>1호선</td>\n",
       "      <td>화서</td>\n",
       "      <td>NaN</td>\n",
       "      <td>경기도 수원시 팔달구 덕영대로 692  _x000D_</td>\n",
       "      <td>경기도 수원시 팔달구 덕영대로 692  _x000D_</td>\n",
       "      <td>True</td>\n",
       "    </tr>\n",
       "    <tr>\n",
       "      <th>297</th>\n",
       "      <td>3호선</td>\n",
       "      <td>화정역</td>\n",
       "      <td>경기도 고양시 덕양구 화정동 1098</td>\n",
       "      <td>경기도 고양시 덕양구 화정로 60</td>\n",
       "      <td>경기도 고양시 덕양구 화정로 60</td>\n",
       "      <td>True</td>\n",
       "    </tr>\n",
       "    <tr>\n",
       "      <th>298</th>\n",
       "      <td>1호선</td>\n",
       "      <td>회기역</td>\n",
       "      <td>서울특별시 동대문구 휘경동 317-101</td>\n",
       "      <td>서울특별시 동대문구 회기로 196(휘경동)</td>\n",
       "      <td>서울특별시 동대문구 회기로 196(휘경동)</td>\n",
       "      <td>True</td>\n",
       "    </tr>\n",
       "    <tr>\n",
       "      <th>299</th>\n",
       "      <td>1호선</td>\n",
       "      <td>회룡</td>\n",
       "      <td>경기도 의정부시 호원동 50-5(회룡역)</td>\n",
       "      <td>경기도 의정부시 평화로 363(회룡역)</td>\n",
       "      <td>경기도 의정부시 평화로 363(회룡역)</td>\n",
       "      <td>True</td>\n",
       "    </tr>\n",
       "    <tr>\n",
       "      <th>300</th>\n",
       "      <td>경의중앙선</td>\n",
       "      <td>효창공원앞역</td>\n",
       "      <td>서울특별시 용산구 용문동5-3</td>\n",
       "      <td>서울특별시 용산구 원효로71길 42-1</td>\n",
       "      <td>서울특별시 용산구 원효로71길 42-1</td>\n",
       "      <td>True</td>\n",
       "    </tr>\n",
       "  </tbody>\n",
       "</table>\n",
       "<p>687 rows × 6 columns</p>\n",
       "</div>"
      ],
      "text/plain": [
       "      운영노선            역명(한글)              역 주소(지번주소)  \\\n",
       "0    공항철도선               서울역                     NaN   \n",
       "1    공항철도선                공덕                     NaN   \n",
       "2    공항철도선              홍대입구                     NaN   \n",
       "3    공항철도선  디지털미디어시티(스카이라이프)                     NaN   \n",
       "4    공항철도선              마곡나루                     NaN   \n",
       "..     ...               ...                     ...   \n",
       "296    1호선                화서                     NaN   \n",
       "297    3호선               화정역   경기도 고양시 덕양구 화정동 1098    \n",
       "298    1호선               회기역  서울특별시 동대문구 휘경동 317-101   \n",
       "299    1호선                회룡  경기도 의정부시 호원동 50-5(회룡역)   \n",
       "300  경의중앙선            효창공원앞역        서울특별시 용산구 용문동5-3   \n",
       "\n",
       "                                 역 주소(도로명 주소)  \\\n",
       "0            서울특별시 용산구 청파로 378 (동자동) 공항철도 서울역   \n",
       "1          서울특별시 마포구 마포대로 지하 92(도화동) 공항철도 공덕역   \n",
       "2        서울특별시 마포구 양화로 지하 188(동교동) 공항철도 홍대입구역   \n",
       "3    서울특별시 마포구 성암로 지하 184(상암동) 공항철도 디지털미디어시티역   \n",
       "4                 서울특별시 강서구 마곡중앙로 지하 135(마곡동)   \n",
       "..                                        ...   \n",
       "296             경기도 수원시 팔달구 덕영대로 692  _x000D_   \n",
       "297                        경기도 고양시 덕양구 화정로 60   \n",
       "298                   서울특별시 동대문구 회기로 196(휘경동)   \n",
       "299                     경기도 의정부시 평화로 363(회룡역)   \n",
       "300                     서울특별시 용산구 원효로71길 42-1   \n",
       "\n",
       "                                      address  filter_YN  \n",
       "0            서울특별시 용산구 청파로 378 (동자동) 공항철도 서울역       True  \n",
       "1          서울특별시 마포구 마포대로 지하 92(도화동) 공항철도 공덕역       True  \n",
       "2        서울특별시 마포구 양화로 지하 188(동교동) 공항철도 홍대입구역       True  \n",
       "3    서울특별시 마포구 성암로 지하 184(상암동) 공항철도 디지털미디어시티역       True  \n",
       "4                 서울특별시 강서구 마곡중앙로 지하 135(마곡동)       True  \n",
       "..                                        ...        ...  \n",
       "296             경기도 수원시 팔달구 덕영대로 692  _x000D_       True  \n",
       "297                        경기도 고양시 덕양구 화정로 60       True  \n",
       "298                   서울특별시 동대문구 회기로 196(휘경동)       True  \n",
       "299                     경기도 의정부시 평화로 363(회룡역)       True  \n",
       "300                     서울특별시 용산구 원효로71길 42-1       True  \n",
       "\n",
       "[687 rows x 6 columns]"
      ]
     },
     "metadata": {},
     "output_type": "display_data"
    }
   ],
   "source": [
    "stations_f"
   ]
  },
  {
   "cell_type": "markdown",
   "id": "c16c6079",
   "metadata": {},
   "source": [
    "-- 수정내역 \n",
    "- 왕십리광장로 18 -> 왕십리광장로 17\n",
    "- 상록수 -> 상록구 \n",
    "- 안안로 -> 만안로\n",
    "- 와부음 -> 와부읍\n",
    "- 경기도 양주시 고덕호 139번길 317 -> 경기 양주시 덕계로 126 \n",
    "- 교양시->고양시\n",
    "- 인천광역시 연수구 벚꽂로 195 -> 인천 연수구 벚꽂로 195\n",
    "- 인천광역시 미출홀구 경인로 129 -> 인천광역시 미추홀구 경인로 129\n",
    "- 서울툭별시 -> 서울특별시\n",
    "- 인천광역시 미추홀구 주안로 지하 91-1 -> 인천 미추홀구 주안동 125\n",
    "- 경기도 부천시 길주로 713 -> 인천 부평구 길주로 지하 713\n",
    "- 경기도 부천시 길주로 623 -> 인천 부평구 길주로 지하 623\n",
    "- 경기도 부천시 길주로 379 -> 인천 부평구 길주로 지하 379\n",
    "- 경기도 부천시 길주로 120 -> 인천 서구 길주로 지하 120"
   ]
  },
  {
   "cell_type": "code",
   "execution_count": null,
   "id": "3034ad63",
   "metadata": {},
   "outputs": [],
   "source": [
    "def address_adjust(address):\n",
    "    return re.sub(' 공항철도 .*역$| \\(.*\\)| [가-힣]*역$| [가-힣]*역\\(.*\\)$', '', re.search('[가-힣 0-9\\-\\(\\)]*', address).group().strip()) if type(address)==str else ''\n",
    "\n",
    "addresss = []\n",
    "for i in tqdm(stations_f.filter(regex='주소').itertuples()):\n",
    "    addresss.append((address_adjust(i[1]), address_adjust(i[2])))"
   ]
  },
  {
   "cell_type": "code",
   "execution_count": null,
   "id": "5709442d",
   "metadata": {},
   "outputs": [],
   "source": [
    "coordinates = []\n",
    "for i, j in tqdm(addresss):\n",
    "    coordinates.append(find_coordi([j if i=='' else i, j]))"
   ]
  },
  {
   "cell_type": "code",
   "execution_count": null,
   "id": "230a2d5c",
   "metadata": {},
   "outputs": [],
   "source": [
    "# check\n",
    "[idx for idx, i in enumerate(coordinates) if i ==None]"
   ]
  },
  {
   "cell_type": "code",
   "execution_count": null,
   "id": "242e3b36",
   "metadata": {},
   "outputs": [],
   "source": [
    "pd.concat([stations_f.reset_index(drop=True), pd.DataFrame(coordinates, columns = ['y','x'])], axis=1).to_csv('data/preprocessed_241007.csv', index=False, encoding='utf-8-sig')"
   ]
  },
  {
   "cell_type": "code",
   "execution_count": null,
   "id": "d14760a3",
   "metadata": {},
   "outputs": [],
   "source": [
    "station_preprocessed = pd.read_csv('data/preprocessed_241007.csv')"
   ]
  },
  {
   "cell_type": "code",
   "execution_count": null,
   "id": "66b84638-9e33-4f23-a432-579b5df42509",
   "metadata": {},
   "outputs": [],
   "source": [
    "stations_geo = gpd.GeoDataFrame(station_preprocessed.assign(geometry = lambda df: df.apply(lambda row:shapely.geometry.Point((row.x, row.y)), axis=1)))\\\n",
    ".assign(filter_TF = lambda df: df.geometry.apply(lambda x: shapely.within(x, total_geo))).query('filter_TF')"
   ]
  },
  {
   "cell_type": "code",
   "execution_count": null,
   "id": "50a5d2d6",
   "metadata": {},
   "outputs": [],
   "source": [
    "line_list = stations_geo['운영노선'].unique()\n",
    "colors = sns.color_palette('tab10', len(line_list))"
   ]
  },
  {
   "cell_type": "code",
   "execution_count": null,
   "id": "72b4a576",
   "metadata": {},
   "outputs": [
    {
     "data": {
      "image/png": "[encoded data removed]",
      "text/plain": [
       "<Figure size 640x480 with 1 Axes>"
      ]
     },
     "metadata": {},
     "output_type": "display_data"
    }
   ],
   "source": [
    "fig, ax = plt.subplots()\n",
    "seoul_geo.plot(ax=ax, color='lightgray')\n",
    "gyeonggi_geo.plot(ax = ax, color='lightgray')\n",
    "incheon_geo.plot(ax = ax, color='lightgray')\n",
    "processing_geo.plot(ax=ax, color='r')\n",
    "for t, c in zip(line_list, colors):\n",
    "    stations_geo.query('운영노선==@t').plot(ax=ax, color=c, alpha = 0.4)"
   ]
  },
  {
   "cell_type": "code",
   "execution_count": null,
   "id": "c9d879c3",
   "metadata": {},
   "outputs": [],
   "source": [
    "cross_tab= processing_geo.filter(regex='번호|geometry').merge(stations_geo.filter(regex='역명|geometry'),how='cross')\\\n",
    ".assign(distance = lambda df:df.apply(lambda row: shapely.distance(row.geometry_x, row.geometry_y), axis=1)).reset_index(drop=True)"
   ]
  },
  {
   "cell_type": "code",
   "execution_count": null,
   "id": "7ed2b5f3-5334-49d6-b108-0314b7c96038",
   "metadata": {},
   "outputs": [],
   "source": [
    "station_geo = gpd.GeoDataFrame(station_final.assign(\n",
    "    geometry = lambda df:df.apply(lambda row: Point((row.x, row.y)), axis=1),\n",
    "    within = lambda df: df.geometry.apply(lambda x: shapely.within(x, total_geo))\n",
    "    ).query('within'))"
   ]
  },
  {
   "cell_type": "code",
   "execution_count": null,
   "id": "ccc67e64-3998-41e2-bfb9-ddcae8915c70",
   "metadata": {},
   "outputs": [],
   "source": [
    "line_list = stations_geo['운영노선'].unique()\n",
    "colors = sns.color_palette('tab10', len(line_list))"
   ]
  },
  {
   "cell_type": "code",
   "execution_count": null,
   "id": "05a15d5a-0a28-4f96-a896-6339f47b99c1",
   "metadata": {},
   "outputs": [],
   "source": [
    "fig, ax = plt.subplots()\n",
    "seoul_geo.plot(ax=ax, color='lightgray')\n",
    "gyeonggi_geo.plot(ax = ax, color='lightgray')\n",
    "incheon_geo.plot(ax = ax, color='lightgray')\n",
    "processing_geo.plot(ax=ax, color='r')\n",
    "for t, c in zip(line_list, colors):\n",
    "    stations_geo.query('운영노선==@t').plot(ax=ax, color=c, alpha = 0.4)"
   ]
  },
  {
   "cell_type": "code",
   "execution_count": null,
   "id": "a888744a-9fb2-47c5-b735-ec945c2f6e7e",
   "metadata": {},
   "outputs": [],
   "source": [
    "cross_tab= processing_geo.filter(regex='번호|geometry').merge(station_geo.filter(regex='역명|geometry'),how='cross')\\\n",
    ".assign(distance = lambda df:df.apply(lambda row: shapely.distance(row.geometry_x, row.geometry_y), axis=1)).reset_index(drop=True)"
   ]
  },
  {
   "cell_type": "code",
   "execution_count": null,
   "id": "c4cf94ff",
   "metadata": {},
   "outputs": [],
   "source": [
    "final = processing_geo.merge(cross_tab.loc[cross_tab.groupby('번호').distance.idxmin(),['번호', '역명(한글)', 'distance']], on='번호')"
   ]
  },
  {
   "cell_type": "code",
   "execution_count": null,
   "id": "8fea089a",
   "metadata": {},
   "outputs": [
    {
     "name": "stdout",
     "output_type": "stream",
     "text": [
      "<class 'geopandas.geodataframe.GeoDataFrame'>\n",
      "RangeIndex: 102 entries, 0 to 101\n",
      "Data columns (total 18 columns):\n",
      " #   Column    Non-Null Count  Dtype   \n",
      "---  ------    --------------  -----   \n",
      " 0   번호        102 non-null    int64   \n",
      " 1   공고일자      102 non-null    int64   \n",
      " 2   청약 접수기간   102 non-null    object  \n",
      " 3   시도        102 non-null    object  \n",
      " 4   시군구       102 non-null    object  \n",
      " 5   주소        102 non-null    object  \n",
      " 6   주택유형      102 non-null    object  \n",
      " 7   전용면적(m2)  102 non-null    float64 \n",
      " 8   임대보증금액    102 non-null    object  \n",
      " 9   신청자수      102 non-null    int64   \n",
      " 10  href_id   102 non-null    object  \n",
      " 11  address   102 non-null    object  \n",
      " 12  x         102 non-null    float64 \n",
      " 13  y         102 non-null    float64 \n",
      " 14  img       102 non-null    object  \n",
      " 15  geometry  102 non-null    geometry\n",
      " 16  역명(한글)    102 non-null    object  \n",
      " 17  distance  102 non-null    float64 \n",
      "dtypes: float64(4), geometry(1), int64(3), object(10)\n",
      "memory usage: 14.5+ KB\n"
     ]
    }
   ],
   "source": [
    "final.info()"
   ]
  },
  {
   "cell_type": "code",
   "execution_count": null,
   "id": "15738b03",
   "metadata": {},
   "outputs": [],
   "source": [
    "final.assign(\n",
    "    deposit = lambda df: df['임대보증금액'].apply(lambda x: int(x.replace(',', ''))/10000),\n",
    "    m2 = lambda df: df['전용면적(m2)'],\n",
    "    deposit_m2 = lambda df: df.deposit/df.m2,\n",
    "    distanceM_near_station = lambda df: df['distance'].apply(lambda x: x*100000.0),\n",
    "    near_station = lambda df: df['역명(한글)']\n",
    "    \n",
    ").drop(columns = ['임대보증금액', 'distance', '공고일자', '청약 접수기간', '전용면적(m2)', 'href_id', 'x','y', 'geometry', '시도', '시군구', '역명(한글)', 'address']).sort_values('번호').to_csv('result241007.csv', encoding='utf-8-sig', index = False)"
   ]
  },
  {
   "cell_type": "code",
   "execution_count": null,
   "id": "66a3ad6b",
   "metadata": {},
   "outputs": [
    {
     "name": "stdout",
     "output_type": "stream",
     "text": [
      "<class 'pandas.core.frame.DataFrame'>\n",
      "RangeIndex: 102 entries, 0 to 101\n",
      "Data columns (total 10 columns):\n",
      " #   Column                  Non-Null Count  Dtype  \n",
      "---  ------                  --------------  -----  \n",
      " 0   번호                      102 non-null    int64  \n",
      " 1   주소                      102 non-null    object \n",
      " 2   주택유형                    102 non-null    object \n",
      " 3   신청자수                    102 non-null    int64  \n",
      " 4   img                     102 non-null    object \n",
      " 5   deposit                 102 non-null    float64\n",
      " 6   m2                      102 non-null    float64\n",
      " 7   deposit_m2              102 non-null    float64\n",
      " 8   distanceM_near_station  102 non-null    float64\n",
      " 9   near_station            102 non-null    object \n",
      "dtypes: float64(4), int64(2), object(4)\n",
      "memory usage: 8.1+ KB\n"
     ]
    }
   ],
   "source": [
    "final_reduced = pd.read_csv('result241007.csv')\n",
    "final_reduced.info()"
   ]
  },
  {
   "cell_type": "code",
   "execution_count": null,
   "id": "a02db0c0",
   "metadata": {},
   "outputs": [
    {
     "data": {
      "text/plain": [
       "<Axes: xlabel='deposit', ylabel='Count'>"
      ]
     },
     "metadata": {},
     "output_type": "display_data"
    },
    {
     "data": {
      "image/png": "[encoded data removed]",
      "text/plain": [
       "<Figure size 640x480 with 1 Axes>"
      ]
     },
     "metadata": {},
     "output_type": "display_data"
    }
   ],
   "source": [
    "sns.histplot(data = final_reduced, x='deposit', kde=True)"
   ]
  }
 ],
 "metadata": {
  "kernelspec": {
   "display_name": "Python 3 (ipykernel)",
   "language": "python",
   "name": "python3"
  },
  "language_info": {
   "codemirror_mode": {
    "name": "ipython",
    "version": 3
   },
   "file_extension": ".py",
   "mimetype": "text/x-python",
   "name": "python",
   "nbconvert_exporter": "python",
   "pygments_lexer": "ipython3",
   "version": "3.10.12"
  }
 },
 "nbformat": 4,
 "nbformat_minor": 5
}
