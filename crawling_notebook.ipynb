{
 "cells": [
  {
   "cell_type": "code",
   "execution_count": 45,
   "id": "043ca6bb-d69a-46bd-b191-bcda74d519f3",
   "metadata": {},
   "outputs": [],
   "source": [
    "import requests\n",
    "from bs4 import BeautifulSoup\n",
    "import re\n",
    "import pandas as pd\n",
    "import numpy as np\n",
    "import time\n",
    "from tqdm.notebook import tqdm \n",
    "import datetime as dt\n",
    "import pytz"
   ]
  },
  {
   "cell_type": "code",
   "execution_count": 46,
   "id": "3092e3ca-b35e-47b6-b6ae-b737bf95366e",
   "metadata": {},
   "outputs": [
    {
     "data": {
      "text/plain": [
       "'241107'"
      ]
     },
     "execution_count": 46,
     "metadata": {},
     "output_type": "execute_result"
    }
   ],
   "source": [
    "def get_seoul_time():\n",
    "    seoul_tz = pytz.timezone('Asia/Seoul')\n",
    "    seoul_time = dt.datetime.now(seoul_tz)\n",
    "    return seoul_time\n",
    "current_date = get_seoul_time()\n",
    "current_str = current_date.strftime('%y%m%d')\n",
    "current_str"
   ]
  },
  {
   "cell_type": "code",
   "execution_count": 47,
   "id": "26fd21ea-009d-46d9-a198-95a4781359e9",
   "metadata": {},
   "outputs": [],
   "source": [
    "def parse_oneline(txt):\n",
    "    output = [i for i in txt.split('\\n')]\n",
    "    return output\n",
    "\n",
    "def parse_onepage(page_num):\n",
    "    html=requests.get(f\"https://www.khug.or.kr/jeonse/web/s07/s070102.jsp?cur_page={page_num}\")\n",
    "    tb_TF = False\n",
    "    try_cnt=0\n",
    "    while not tb_TF:\n",
    "        if try_cnt>10:\n",
    "            raise\n",
    "        time.sleep(1) \n",
    "        bs_test = BeautifulSoup(html.text, 'html.parser')\n",
    "        if bs_test.find('table'):\n",
    "            tb_TF = True \n",
    "        else:\n",
    "            tb_TF = False\n",
    "        try_cnt+=1\n",
    "        \n",
    "    tables = bs_test.find('table')\n",
    "    thead = tables.find('thead')\n",
    "    tab_cols = parse_oneline(thead.get_text().strip())\n",
    "    tbody = tables.find('tbody')\n",
    "    output_tab = pd.DataFrame([parse_oneline(i.strip()) for i in tbody.get_text().strip().split('\\n\\n')], columns=tab_cols)\n",
    "    output_tab = output_tab.assign(href_id = [re.search('no=\\d{10}', i['href']).group() for i in tbody.find_all(href=True)])\n",
    "    return output_tab"
   ]
  },
  {
   "cell_type": "code",
   "execution_count": 49,
   "id": "8df4b3d4-d358-44a5-8653-88b2882724cf",
   "metadata": {},
   "outputs": [],
   "source": [
    "sample = parse_onepage(1) \n",
    "service_date = sample.loc[0, '공고일자']"
   ]
  },
  {
   "cell_type": "code",
   "execution_count": 50,
   "id": "2f26ac1f-9970-4bfa-b1ce-41d4422f5456",
   "metadata": {},
   "outputs": [
    {
     "data": {
      "application/vnd.jupyter.widget-view+json": {
       "model_id": "b71292bb7c284065b94de49e0cc76ede",
       "version_major": 2,
       "version_minor": 0
      },
      "text/plain": [
       "  0%|          | 0/13 [00:00<?, ?it/s]"
      ]
     },
     "metadata": {},
     "output_type": "display_data"
    }
   ],
   "source": [
    "list_num = 13\n",
    "datas = [parse_onepage(n) for n in tqdm(range(1,list_num+1))]"
   ]
  },
  {
   "cell_type": "code",
   "execution_count": 51,
   "id": "55c80dee-f5a0-4d41-9046-e17985583566",
   "metadata": {},
   "outputs": [],
   "source": [
    "final_data = pd.concat(datas).reset_index(drop=True).assign(address = lambda df: df['주소'].apply(lambda x: x.split('  ')[0] if ',' not in x else  x.split('  ')[0].split(',')[0])\n",
    "                                               # .apply(lambda x: ' '.join([i for i in x.split(' ') if i !='']))\n",
    "                                              )\n",
    "final_data.to_csv(f'data/crawling{service_date}_{current_str}.csv', index = False, encoding = 'utf-8-sig')"
   ]
  },
  {
   "cell_type": "code",
   "execution_count": 52,
   "id": "09207234-51d7-42b8-aac5-b604909f0691",
   "metadata": {},
   "outputs": [],
   "source": [
    "final_data=pd.read_csv(f'data/crawling{service_date}_{current_str}.csv')"
   ]
  },
  {
   "cell_type": "code",
   "execution_count": null,
   "id": "46b984f0-254a-446a-a945-356d8e228879",
   "metadata": {},
   "outputs": [],
   "source": [
    "# def find_coordinates(address):\n",
    "#     time.sleep(1)\n",
    "#     apiurl = \"https://api.vworld.kr/req/address?\"\n",
    "#     params = {\n",
    "#     \t\"service\": \"address\",\n",
    "#     \t\"request\": \"getcoord\",\n",
    "#     \t\"crs\": \"epsg:5186\",\n",
    "#     \t\"address\": address,\n",
    "#     \t\"format\": \"json\",\n",
    "#     \t\"type\": \"parcel\",\n",
    "#     \t\"key\": \"\"\n",
    "#     }\n",
    "#     response = requests.get(apiurl, params=params)\n",
    "#     if response.status_code == 200:\n",
    "#         result = response.json()['response']\n",
    "#         # print(result)\n",
    "#         if 'result' in result.keys():\n",
    "#             return result['result']['point']['x'], result['result']['point']['y']\n",
    "#         else:\n",
    "#             return 0,0\n",
    "\n",
    "\n",
    "import requests\n",
    "\n",
    "def set_rest_api(rest_api_token):\n",
    "    def convert_address_to_coordinates(address):\n",
    "        \"\"\"\n",
    "        입력받은 주소를 WGS84 좌표계 좌표로 변환(카카오맵api)\n",
    "        \"\"\"\n",
    "    \n",
    "        url = 'https://dapi.kakao.com/v2/local/search/address.json?query=' + address\n",
    "        \n",
    "        header = {'Authorization': 'KakaoAK ' + rest_api_token}\n",
    "     \n",
    "        r = requests.get(url, headers=header)\n",
    "        \n",
    "        if (r.status_code == 200) and len(r.json()[\"documents\"])>0:\n",
    "            lng = float(r.json()[\"documents\"][0][\"address\"]['x'])\n",
    "            lat = float(r.json()[\"documents\"][0][\"address\"]['y'])\n",
    "        else:\n",
    "            return None\n",
    "        return lat, lng\n",
    "        \n",
    "    return convert_address_to_coordinates\n",
    "\n",
    "kakao_api_key = \"\"\n",
    "convert_address_to_coordinates = set_rest_api(kakao_api_key)"
   ]
  },
  {
   "cell_type": "code",
   "execution_count": 54,
   "id": "1692036e-d224-461b-bcda-9e2e4f724f0d",
   "metadata": {
    "scrolled": true
   },
   "outputs": [
    {
     "data": {
      "application/vnd.jupyter.widget-view+json": {
       "model_id": "2340089f970f4244afcef24f3e836df5",
       "version_major": 2,
       "version_minor": 0
      },
      "text/plain": [
       "  0%|          | 0/122 [00:00<?, ?it/s]"
      ]
     },
     "metadata": {},
     "output_type": "display_data"
    }
   ],
   "source": [
    "coordinates = [convert_address_to_coordinates(i) for i in tqdm(final_data.address.values)]"
   ]
  },
  {
   "cell_type": "code",
   "execution_count": 55,
   "id": "aeae6f40-4949-4eea-bc93-7fce4ee48b20",
   "metadata": {},
   "outputs": [],
   "source": [
    "final_data0 = pd.concat([final_data, pd.DataFrame(coordinates, columns = ['x','y'])], axis=1)"
   ]
  },
  {
   "cell_type": "code",
   "execution_count": 56,
   "id": "47393f74-1ab8-4d59-bdc4-499a11d9a328",
   "metadata": {},
   "outputs": [
    {
     "data": {
      "text/html": [
       "<div>\n",
       "<style scoped>\n",
       "    .dataframe tbody tr th:only-of-type {\n",
       "        vertical-align: middle;\n",
       "    }\n",
       "\n",
       "    .dataframe tbody tr th {\n",
       "        vertical-align: top;\n",
       "    }\n",
       "\n",
       "    .dataframe thead th {\n",
       "        text-align: right;\n",
       "    }\n",
       "</style>\n",
       "<table border=\"1\" class=\"dataframe\">\n",
       "  <thead>\n",
       "    <tr style=\"text-align: right;\">\n",
       "      <th></th>\n",
       "      <th>번호</th>\n",
       "      <th>공고일자</th>\n",
       "      <th>청약 접수기간</th>\n",
       "      <th>시도</th>\n",
       "      <th>시군구</th>\n",
       "      <th>주소</th>\n",
       "      <th>주택유형</th>\n",
       "      <th>전용면적(m2)</th>\n",
       "      <th>임대보증금액</th>\n",
       "      <th>신청자수</th>\n",
       "      <th>href_id</th>\n",
       "      <th>address</th>\n",
       "      <th>x</th>\n",
       "      <th>y</th>\n",
       "    </tr>\n",
       "  </thead>\n",
       "  <tbody>\n",
       "    <tr>\n",
       "      <th>0</th>\n",
       "      <td>122</td>\n",
       "      <td>20241031</td>\n",
       "      <td>2024.10.31. 10:00 ~ 2024.11.14. 17:00</td>\n",
       "      <td>서울특별시</td>\n",
       "      <td>서울 강동구</td>\n",
       "      <td>서울 강동구 천호동 562, 562-1 스카이캐슬라 8층 802호</td>\n",
       "      <td>다세대주택</td>\n",
       "      <td>15.21</td>\n",
       "      <td>152,100,000</td>\n",
       "      <td>668</td>\n",
       "      <td>no=2023040345</td>\n",
       "      <td>서울 강동구 천호동 562</td>\n",
       "      <td>37.539597</td>\n",
       "      <td>127.130622</td>\n",
       "    </tr>\n",
       "    <tr>\n",
       "      <th>1</th>\n",
       "      <td>121</td>\n",
       "      <td>20241031</td>\n",
       "      <td>2024.10.31. 10:00 ~ 2024.11.14. 17:00</td>\n",
       "      <td>서울특별시</td>\n",
       "      <td>서울 강서구</td>\n",
       "      <td>서울 강서구 등촌동 637-19 라빌라스 101동 4층 402호</td>\n",
       "      <td>오피스텔(주거용)</td>\n",
       "      <td>29.99</td>\n",
       "      <td>210,600,000</td>\n",
       "      <td>161</td>\n",
       "      <td>no=2022367225</td>\n",
       "      <td>서울 강서구 등촌동 637-19 라빌라스 101동 4층 402호</td>\n",
       "      <td>37.556256</td>\n",
       "      <td>126.859242</td>\n",
       "    </tr>\n",
       "    <tr>\n",
       "      <th>2</th>\n",
       "      <td>120</td>\n",
       "      <td>20241031</td>\n",
       "      <td>2024.10.31. 10:00 ~ 2024.11.14. 17:00</td>\n",
       "      <td>서울특별시</td>\n",
       "      <td>서울 강서구</td>\n",
       "      <td>서울 강서구 등촌동 643-16, 643-17 라테라스 4층 404호</td>\n",
       "      <td>다세대주택</td>\n",
       "      <td>33.51</td>\n",
       "      <td>251,100,000</td>\n",
       "      <td>133</td>\n",
       "      <td>no=2022362498</td>\n",
       "      <td>서울 강서구 등촌동 643-16</td>\n",
       "      <td>37.555297</td>\n",
       "      <td>126.859798</td>\n",
       "    </tr>\n",
       "    <tr>\n",
       "      <th>3</th>\n",
       "      <td>119</td>\n",
       "      <td>20241031</td>\n",
       "      <td>2024.10.31. 10:00 ~ 2024.11.14. 17:00</td>\n",
       "      <td>서울특별시</td>\n",
       "      <td>서울 강서구</td>\n",
       "      <td>서울 강서구 화곡동 105-207 바로크빌 4층 402호</td>\n",
       "      <td>다세대주택</td>\n",
       "      <td>29.90</td>\n",
       "      <td>142,200,000</td>\n",
       "      <td>62</td>\n",
       "      <td>no=2022348197</td>\n",
       "      <td>서울 강서구 화곡동 105-207 바로크빌 4층 402호</td>\n",
       "      <td>37.539887</td>\n",
       "      <td>126.844564</td>\n",
       "    </tr>\n",
       "    <tr>\n",
       "      <th>4</th>\n",
       "      <td>118</td>\n",
       "      <td>20241031</td>\n",
       "      <td>2024.10.31. 10:00 ~ 2024.11.14. 17:00</td>\n",
       "      <td>서울특별시</td>\n",
       "      <td>서울 강서구</td>\n",
       "      <td>서울 강서구 화곡동 1111, 1111-1 에스제이라벨라 10층 1002호</td>\n",
       "      <td>오피스텔(주거용)</td>\n",
       "      <td>20.57</td>\n",
       "      <td>143,100,000</td>\n",
       "      <td>196</td>\n",
       "      <td>no=2023198064</td>\n",
       "      <td>서울 강서구 화곡동 1111</td>\n",
       "      <td>37.554948</td>\n",
       "      <td>126.852357</td>\n",
       "    </tr>\n",
       "    <tr>\n",
       "      <th>...</th>\n",
       "      <td>...</td>\n",
       "      <td>...</td>\n",
       "      <td>...</td>\n",
       "      <td>...</td>\n",
       "      <td>...</td>\n",
       "      <td>...</td>\n",
       "      <td>...</td>\n",
       "      <td>...</td>\n",
       "      <td>...</td>\n",
       "      <td>...</td>\n",
       "      <td>...</td>\n",
       "      <td>...</td>\n",
       "      <td>...</td>\n",
       "      <td>...</td>\n",
       "    </tr>\n",
       "    <tr>\n",
       "      <th>117</th>\n",
       "      <td>5</td>\n",
       "      <td>20241031</td>\n",
       "      <td>2024.10.31. 10:00 ~ 2024.11.14. 17:00</td>\n",
       "      <td>경기도</td>\n",
       "      <td>경기 부천시 원미구</td>\n",
       "      <td>경기 부천시 원미구 원미동 169-1 수팰리스 B동 4층 403호</td>\n",
       "      <td>다세대주택</td>\n",
       "      <td>34.92</td>\n",
       "      <td>144,000,000</td>\n",
       "      <td>6</td>\n",
       "      <td>no=2022363045</td>\n",
       "      <td>경기 부천시 원미구 원미동 169-1 수팰리스 B동 4층 403호</td>\n",
       "      <td>37.494132</td>\n",
       "      <td>126.792039</td>\n",
       "    </tr>\n",
       "    <tr>\n",
       "      <th>118</th>\n",
       "      <td>4</td>\n",
       "      <td>20241031</td>\n",
       "      <td>2024.10.31. 10:00 ~ 2024.11.14. 17:00</td>\n",
       "      <td>경기도</td>\n",
       "      <td>경기 부천시 원미구</td>\n",
       "      <td>경기 부천시 원미구 원미동 200-2, 200-4 송원리치빌 4층 402호</td>\n",
       "      <td>다세대주택</td>\n",
       "      <td>58.20</td>\n",
       "      <td>154,800,000</td>\n",
       "      <td>11</td>\n",
       "      <td>no=2023204224</td>\n",
       "      <td>경기 부천시 원미구 원미동 200-2</td>\n",
       "      <td>37.488685</td>\n",
       "      <td>126.789119</td>\n",
       "    </tr>\n",
       "    <tr>\n",
       "      <th>119</th>\n",
       "      <td>3</td>\n",
       "      <td>20241031</td>\n",
       "      <td>2024.10.31. 10:00 ~ 2024.11.14. 17:00</td>\n",
       "      <td>경기도</td>\n",
       "      <td>경기 부천시 원미구</td>\n",
       "      <td>경기 부천시 원미구 원미동 201-14, 201-17, 201-18 수팰리스 2층 ...</td>\n",
       "      <td>다세대주택</td>\n",
       "      <td>67.15</td>\n",
       "      <td>190,800,000</td>\n",
       "      <td>15</td>\n",
       "      <td>no=2022388671</td>\n",
       "      <td>경기 부천시 원미구 원미동 201-14</td>\n",
       "      <td>37.488593</td>\n",
       "      <td>126.789558</td>\n",
       "    </tr>\n",
       "    <tr>\n",
       "      <th>120</th>\n",
       "      <td>2</td>\n",
       "      <td>20241031</td>\n",
       "      <td>2024.10.31. 10:00 ~ 2024.11.14. 17:00</td>\n",
       "      <td>경기도</td>\n",
       "      <td>경기 부천시 원미구</td>\n",
       "      <td>경기 부천시 원미구 원미동 42-1 해냄스토리주건축물 1동 10층 1002호</td>\n",
       "      <td>오피스텔(주거용)</td>\n",
       "      <td>57.87</td>\n",
       "      <td>226,800,000</td>\n",
       "      <td>36</td>\n",
       "      <td>no=2023205918</td>\n",
       "      <td>경기 부천시 원미구 원미동 42-1 해냄스토리주건축물 1동 10층 1002호</td>\n",
       "      <td>37.498914</td>\n",
       "      <td>126.789699</td>\n",
       "    </tr>\n",
       "    <tr>\n",
       "      <th>121</th>\n",
       "      <td>1</td>\n",
       "      <td>20241031</td>\n",
       "      <td>2024.10.31. 10:00 ~ 2024.11.14. 17:00</td>\n",
       "      <td>경기도</td>\n",
       "      <td>경기 부천시 원미구</td>\n",
       "      <td>경기 부천시 원미구 원미동 70-6, 70-7, 70-8 금강빌리지 4층 403호</td>\n",
       "      <td>다세대주택</td>\n",
       "      <td>50.65</td>\n",
       "      <td>171,900,000</td>\n",
       "      <td>14</td>\n",
       "      <td>no=2022346373</td>\n",
       "      <td>경기 부천시 원미구 원미동 70-6</td>\n",
       "      <td>37.497073</td>\n",
       "      <td>126.787095</td>\n",
       "    </tr>\n",
       "  </tbody>\n",
       "</table>\n",
       "<p>122 rows × 14 columns</p>\n",
       "</div>"
      ],
      "text/plain": [
       "      번호      공고일자                                청약 접수기간     시도         시군구  \\\n",
       "0    122  20241031  2024.10.31. 10:00 ~ 2024.11.14. 17:00  서울특별시      서울 강동구   \n",
       "1    121  20241031  2024.10.31. 10:00 ~ 2024.11.14. 17:00  서울특별시      서울 강서구   \n",
       "2    120  20241031  2024.10.31. 10:00 ~ 2024.11.14. 17:00  서울특별시      서울 강서구   \n",
       "3    119  20241031  2024.10.31. 10:00 ~ 2024.11.14. 17:00  서울특별시      서울 강서구   \n",
       "4    118  20241031  2024.10.31. 10:00 ~ 2024.11.14. 17:00  서울특별시      서울 강서구   \n",
       "..   ...       ...                                    ...    ...         ...   \n",
       "117    5  20241031  2024.10.31. 10:00 ~ 2024.11.14. 17:00    경기도  경기 부천시 원미구   \n",
       "118    4  20241031  2024.10.31. 10:00 ~ 2024.11.14. 17:00    경기도  경기 부천시 원미구   \n",
       "119    3  20241031  2024.10.31. 10:00 ~ 2024.11.14. 17:00    경기도  경기 부천시 원미구   \n",
       "120    2  20241031  2024.10.31. 10:00 ~ 2024.11.14. 17:00    경기도  경기 부천시 원미구   \n",
       "121    1  20241031  2024.10.31. 10:00 ~ 2024.11.14. 17:00    경기도  경기 부천시 원미구   \n",
       "\n",
       "                                                    주소       주택유형  전용면적(m2)  \\\n",
       "0                 서울 강동구 천호동 562, 562-1 스카이캐슬라 8층 802호      다세대주택     15.21   \n",
       "1                  서울 강서구 등촌동 637-19 라빌라스 101동 4층 402호  오피스텔(주거용)     29.99   \n",
       "2               서울 강서구 등촌동 643-16, 643-17 라테라스 4층 404호      다세대주택     33.51   \n",
       "3                      서울 강서구 화곡동 105-207 바로크빌 4층 402호      다세대주택     29.90   \n",
       "4            서울 강서구 화곡동 1111, 1111-1 에스제이라벨라 10층 1002호  오피스텔(주거용)     20.57   \n",
       "..                                                 ...        ...       ...   \n",
       "117               경기 부천시 원미구 원미동 169-1 수팰리스 B동 4층 403호      다세대주택     34.92   \n",
       "118          경기 부천시 원미구 원미동 200-2, 200-4 송원리치빌 4층 402호      다세대주택     58.20   \n",
       "119  경기 부천시 원미구 원미동 201-14, 201-17, 201-18 수팰리스 2층 ...      다세대주택     67.15   \n",
       "120         경기 부천시 원미구 원미동 42-1 해냄스토리주건축물 1동 10층 1002호  오피스텔(주거용)     57.87   \n",
       "121      경기 부천시 원미구 원미동 70-6, 70-7, 70-8 금강빌리지 4층 403호      다세대주택     50.65   \n",
       "\n",
       "          임대보증금액  신청자수        href_id  \\\n",
       "0    152,100,000   668  no=2023040345   \n",
       "1    210,600,000   161  no=2022367225   \n",
       "2    251,100,000   133  no=2022362498   \n",
       "3    142,200,000    62  no=2022348197   \n",
       "4    143,100,000   196  no=2023198064   \n",
       "..           ...   ...            ...   \n",
       "117  144,000,000     6  no=2022363045   \n",
       "118  154,800,000    11  no=2023204224   \n",
       "119  190,800,000    15  no=2022388671   \n",
       "120  226,800,000    36  no=2023205918   \n",
       "121  171,900,000    14  no=2022346373   \n",
       "\n",
       "                                        address          x           y  \n",
       "0                                서울 강동구 천호동 562  37.539597  127.130622  \n",
       "1           서울 강서구 등촌동 637-19 라빌라스 101동 4층 402호  37.556256  126.859242  \n",
       "2                             서울 강서구 등촌동 643-16  37.555297  126.859798  \n",
       "3               서울 강서구 화곡동 105-207 바로크빌 4층 402호  37.539887  126.844564  \n",
       "4                               서울 강서구 화곡동 1111  37.554948  126.852357  \n",
       "..                                          ...        ...         ...  \n",
       "117        경기 부천시 원미구 원미동 169-1 수팰리스 B동 4층 403호  37.494132  126.792039  \n",
       "118                        경기 부천시 원미구 원미동 200-2  37.488685  126.789119  \n",
       "119                       경기 부천시 원미구 원미동 201-14  37.488593  126.789558  \n",
       "120  경기 부천시 원미구 원미동 42-1 해냄스토리주건축물 1동 10층 1002호  37.498914  126.789699  \n",
       "121                         경기 부천시 원미구 원미동 70-6  37.497073  126.787095  \n",
       "\n",
       "[122 rows x 14 columns]"
      ]
     },
     "execution_count": 56,
     "metadata": {},
     "output_type": "execute_result"
    }
   ],
   "source": [
    "final_data0"
   ]
  },
  {
   "cell_type": "code",
   "execution_count": 57,
   "id": "85d2aa91-2262-4e99-aad3-5a62af42da35",
   "metadata": {},
   "outputs": [],
   "source": [
    "def get_img_link(href_id, dt = '20241007'):\n",
    "    page_url = f\"https://www.khug.or.kr/jeonse/web/s07/s070103.jsp?dt={dt}&{href_id}\"\n",
    "    imgTF = False\n",
    "    while not imgTF:\n",
    "        time.sleep(0.5) \n",
    "        html=requests.get(page_url)\n",
    "        bs_test = BeautifulSoup(html.content, 'html.parser')\n",
    "        img_src = bs_test.find(id = 'imgSor0')\n",
    "        if img_src!=None:\n",
    "            imgTF = True\n",
    "    img_link = img_src.get('src')\n",
    "    return img_link"
   ]
  },
  {
   "cell_type": "code",
   "execution_count": 58,
   "id": "73117c63-4338-4f54-8b15-798a3812b7c9",
   "metadata": {},
   "outputs": [
    {
     "data": {
      "application/vnd.jupyter.widget-view+json": {
       "model_id": "7910189388a3478ba5d3fd9b40bb66d7",
       "version_major": 2,
       "version_minor": 0
      },
      "text/plain": [
       "  0%|          | 0/122 [00:00<?, ?it/s]"
      ]
     },
     "metadata": {},
     "output_type": "display_data"
    }
   ],
   "source": [
    "imgs = [get_img_link(i, dt = service_date) for i in tqdm(final_data0.href_id.values)]"
   ]
  },
  {
   "cell_type": "code",
   "execution_count": 59,
   "id": "0ca933db-d4c3-4ee0-953a-962fe3b19248",
   "metadata": {},
   "outputs": [],
   "source": [
    "final_data = final_data0.assign(img = imgs)"
   ]
  },
  {
   "cell_type": "code",
   "execution_count": 60,
   "id": "5e1cd0f7-0f96-49d7-9460-a38ad73b78f7",
   "metadata": {},
   "outputs": [],
   "source": [
    "final_data.to_csv(f'data/data{service_date}_{current_str}.csv', index = False, encoding = 'utf-8-sig')"
   ]
  },
  {
   "cell_type": "code",
   "execution_count": 61,
   "id": "724f2fe1-344d-41ef-b3dd-6a8a142cc154",
   "metadata": {},
   "outputs": [
    {
     "data": {
      "text/html": [
       "<div>\n",
       "<style scoped>\n",
       "    .dataframe tbody tr th:only-of-type {\n",
       "        vertical-align: middle;\n",
       "    }\n",
       "\n",
       "    .dataframe tbody tr th {\n",
       "        vertical-align: top;\n",
       "    }\n",
       "\n",
       "    .dataframe thead th {\n",
       "        text-align: right;\n",
       "    }\n",
       "</style>\n",
       "<table border=\"1\" class=\"dataframe\">\n",
       "  <thead>\n",
       "    <tr style=\"text-align: right;\">\n",
       "      <th></th>\n",
       "      <th>번호</th>\n",
       "      <th>공고일자</th>\n",
       "      <th>청약 접수기간</th>\n",
       "      <th>시도</th>\n",
       "      <th>시군구</th>\n",
       "      <th>주소</th>\n",
       "      <th>주택유형</th>\n",
       "      <th>전용면적(m2)</th>\n",
       "      <th>임대보증금액</th>\n",
       "      <th>신청자수</th>\n",
       "      <th>href_id</th>\n",
       "      <th>address</th>\n",
       "      <th>x</th>\n",
       "      <th>y</th>\n",
       "      <th>img</th>\n",
       "    </tr>\n",
       "  </thead>\n",
       "  <tbody>\n",
       "    <tr>\n",
       "      <th>0</th>\n",
       "      <td>122</td>\n",
       "      <td>20241031</td>\n",
       "      <td>2024.10.31. 10:00 ~ 2024.11.14. 17:00</td>\n",
       "      <td>서울특별시</td>\n",
       "      <td>서울 강동구</td>\n",
       "      <td>서울 강동구 천호동 562, 562-1 스카이캐슬라 8층 802호</td>\n",
       "      <td>다세대주택</td>\n",
       "      <td>15.21</td>\n",
       "      <td>152,100,000</td>\n",
       "      <td>668</td>\n",
       "      <td>no=2023040345</td>\n",
       "      <td>서울 강동구 천호동 562</td>\n",
       "      <td>37.539597</td>\n",
       "      <td>127.130622</td>\n",
       "      <td>http://www.khug.or.kr/updata/khgc/khgccms/cms/...</td>\n",
       "    </tr>\n",
       "  </tbody>\n",
       "</table>\n",
       "</div>"
      ],
      "text/plain": [
       "    번호      공고일자                                청약 접수기간     시도     시군구  \\\n",
       "0  122  20241031  2024.10.31. 10:00 ~ 2024.11.14. 17:00  서울특별시  서울 강동구   \n",
       "\n",
       "                                     주소   주택유형  전용면적(m2)       임대보증금액  신청자수  \\\n",
       "0  서울 강동구 천호동 562, 562-1 스카이캐슬라 8층 802호  다세대주택     15.21  152,100,000   668   \n",
       "\n",
       "         href_id         address          x           y  \\\n",
       "0  no=2023040345  서울 강동구 천호동 562  37.539597  127.130622   \n",
       "\n",
       "                                                 img  \n",
       "0  http://www.khug.or.kr/updata/khgc/khgccms/cms/...  "
      ]
     },
     "execution_count": 61,
     "metadata": {},
     "output_type": "execute_result"
    }
   ],
   "source": [
    "final_data.head(1)"
   ]
  },
  {
   "cell_type": "code",
   "execution_count": 62,
   "id": "c71a2a79-c875-4675-b6bc-110223eae299",
   "metadata": {},
   "outputs": [],
   "source": [
    "processing_data = pd.read_csv(f'data/data{service_date}_{current_str}.csv')"
   ]
  },
  {
   "cell_type": "code",
   "execution_count": 63,
   "id": "f8feb99b-337e-4eba-9bef-ec50ec3a21b6",
   "metadata": {},
   "outputs": [],
   "source": [
    "import geopandas as gpd\n",
    "from shapely.geometry import Point\n",
    "import shapely"
   ]
  },
  {
   "cell_type": "code",
   "execution_count": 64,
   "id": "52ccf595-33b2-4c1c-bc04-19b7b6103ce2",
   "metadata": {},
   "outputs": [],
   "source": [
    "processing_final = processing_data.copy()\n",
    "processing_geo = gpd.GeoDataFrame(processing_final.assign(geometry = lambda df:df.apply(lambda row:shapely.geometry.Point((row.y, row.x)), axis=1)))\n",
    "sgg_select = processing_geo.filter(regex='시도|시군구').drop_duplicates()\\\n",
    ".apply(lambda row: f\"{row['시도']} {row['시군구'].split()[-1]}\" if \"부천\" not in row['시군구'] \n",
    "       else f\"{row['시도']} {' '.join(row['시군구'].split()[1:])}\" , axis=1).tolist()"
   ]
  },
  {
   "cell_type": "code",
   "execution_count": 65,
   "id": "eefbe98d-c273-424e-b7a3-b94a01b90b23",
   "metadata": {},
   "outputs": [],
   "source": [
    "seoul_geo0 = gpd.read_file('data/seoul_geo/LARD_ADM_SECT_SGG_11_202405.shx', encoding = 'cp949').to_crs('4326')\n",
    "seoul_geo=seoul_geo0.query(\"SGG_NM in @sgg_select\")\n",
    "gyeonggi_geo0 = gpd.read_file('data/gyeonggi_geo/LARD_ADM_SECT_SGG_41_202405.shx', encoding = 'cp949').to_crs('4326')\n",
    "gyeonggi_geo = gyeonggi_geo0.query(\"SGG_NM in @sgg_select\")\n",
    "incheon_geo0 = gpd.read_file('data/incheon_geo/LARD_ADM_SECT_SGG_28_202405.shx', encoding = 'cp949').to_crs('4326')\n",
    "incheon_geo = incheon_geo0.query(\"SGG_NM in @sgg_select\")\n"
   ]
  },
  {
   "cell_type": "code",
   "execution_count": 66,
   "id": "6bbd462d-48e7-49df-87b2-f0d34f8da8d2",
   "metadata": {},
   "outputs": [],
   "source": [
    "total_geo0 = shapely.union_all([shapely.union_all(seoul_geo0.geometry.values), shapely.union_all(incheon_geo0.geometry.values), shapely.union_all(gyeonggi_geo0.geometry.values)])\n",
    "total_geo = shapely.union_all([shapely.union_all(seoul_geo.geometry.values), shapely.union_all(incheon_geo.geometry.values), shapely.union_all(gyeonggi_geo.geometry.values)])"
   ]
  },
  {
   "cell_type": "code",
   "execution_count": 67,
   "id": "2fbfc719-18a6-4c6e-bc30-73c093770f16",
   "metadata": {},
   "outputs": [],
   "source": [
    "station_preprocessed = pd.read_csv('data/preprocessed_241007.csv')"
   ]
  },
  {
   "cell_type": "code",
   "execution_count": 68,
   "id": "9229a10f-ab97-4e03-8cba-950e21115cb5",
   "metadata": {},
   "outputs": [],
   "source": [
    "stations_geo0 = gpd.GeoDataFrame(station_preprocessed.assign(geometry = lambda df: df.apply(lambda row:shapely.geometry.Point((row.x, row.y)), axis=1)))\n",
    "stations_geo = stations_geo0.assign(filter_TF = lambda df: df.geometry.apply(lambda x: shapely.within(x, total_geo))).query('filter_TF')"
   ]
  },
  {
   "cell_type": "code",
   "execution_count": 69,
   "id": "dd228db0-b554-44d7-a729-c2c1b7ae4f6f",
   "metadata": {},
   "outputs": [],
   "source": [
    "cross_tab= processing_geo.filter(regex='번호|geometry').merge(stations_geo.filter(regex='역명|geometry'),how='cross')\\\n",
    ".assign(distance = lambda df:df.apply(lambda row: shapely.distance(row.geometry_x, row.geometry_y), axis=1)).reset_index(drop=True)"
   ]
  },
  {
   "cell_type": "code",
   "execution_count": 70,
   "id": "a43ed59b-e978-429f-af8c-098f9065da1d",
   "metadata": {
    "scrolled": true
   },
   "outputs": [],
   "source": [
    "final = processing_geo.merge(cross_tab.loc[cross_tab.groupby('번호').distance.idxmin(),['번호', '역명(한글)', 'distance']], on='번호').assign(\n",
    "    deposit = lambda df: df['임대보증금액'].apply(lambda x: int(x.replace(',', ''))/10000),\n",
    "    m2 = lambda df: df['전용면적(m2)'],\n",
    "    deposit_m2 = lambda df: df.deposit/df.m2,\n",
    "    distanceM_near_station = lambda df: df['distance'].apply(lambda x: x*100000.0),\n",
    "    near_station = lambda df: df['역명(한글)']\n",
    "    \n",
    ").drop(columns = ['임대보증금액', 'distance', '공고일자', '청약 접수기간', '전용면적(m2)', 'href_id', '역명(한글)', 'address'])"
   ]
  },
  {
   "cell_type": "code",
   "execution_count": 43,
   "id": "21f1c3c7-dc6f-44f7-8a83-54bade07c457",
   "metadata": {},
   "outputs": [],
   "source": [
    "company_pos = shapely.Point(127.040806473603, 37.5058315272521)"
   ]
  },
  {
   "cell_type": "code",
   "execution_count": 44,
   "id": "e2b08e4c-7f43-4fec-87d5-421c50b20c9e",
   "metadata": {},
   "outputs": [],
   "source": [
    "# ffinal = gpd.GeoDataFrame(final).assign(\n",
    "#     distance_comp = lambda df: df.geometry.apply(lambda x: shapely.distance(x, company_pos)*100),\n",
    "#     expected_time = lambda df: df.distance_comp*3.3)\n",
    "# ffinal.to_csv(f'data/final{service_date}_{current_str}.csv', index = False, encoding='utf-8-sig')"
   ]
  },
  {
   "cell_type": "code",
   "execution_count": 86,
   "id": "60f96071-03ac-4023-bb7d-b6f0c2232944",
   "metadata": {},
   "outputs": [],
   "source": [
    "from dateutil import relativedelta\n",
    "tomorrow = current_date+relativedelta.relativedelta(days=1)"
   ]
  },
  {
   "cell_type": "code",
   "execution_count": 138,
   "id": "9d095e23-2463-4e00-a522-4371e8886552",
   "metadata": {},
   "outputs": [],
   "source": [
    "def calculate_transit_time(origin_y, origin_x, dest_y, dest_x):\n",
    "    url = \"https://apis-navi.kakaomobility.com/v1/directions\"\n",
    "    headers = {\"Authorization\": f\"KakaoAK {kakao_api_key}\"}\n",
    "    params = {\n",
    "        \"origin\": f\"{origin_y},{origin_x}\",\n",
    "        \"destination\": f\"{dest_y},{dest_x}\",\n",
    "        \"priority\": \"RECOMMEND\",\n",
    "        \"car_fuel\": \"GASOLINE\",\n",
    "        \"car_hipass\": True,\n",
    "        \"alternatives\": False,\n",
    "        \"road_details\": False,\n",
    "        \"roadevent\":2\n",
    "    }\n",
    "    \n",
    "    try:\n",
    "        response = requests.get(url, headers=headers, params=params)\n",
    "        if response.status_code == 200:\n",
    "            result = response.json()\n",
    "            return result['routes'][0]['summary']['duration'] / 60, result['routes'][0]['summary']['distance']\n",
    "        return None\n",
    "    except:\n",
    "        return None"
   ]
  },
  {
   "cell_type": "code",
   "execution_count": 118,
   "id": "2c02db41-1254-47ae-bf97-b1e42f6764b1",
   "metadata": {},
   "outputs": [],
   "source": [
    "comp_x, comp_y =  37.5058315272521, 127.040806473603\n"
   ]
  },
  {
   "cell_type": "code",
   "execution_count": 139,
   "id": "58fcde98-4211-48b1-aa9b-bf1ef02f427c",
   "metadata": {},
   "outputs": [
    {
     "data": {
      "application/vnd.jupyter.widget-view+json": {
       "model_id": "6ef7797df174414dba8b6344d624dbf7",
       "version_major": 2,
       "version_minor": 0
      },
      "text/plain": [
       "  0%|          | 0/122 [00:00<?, ?it/s]"
      ]
     },
     "metadata": {},
     "output_type": "display_data"
    }
   ],
   "source": [
    "expected_times = [calculate_transit_time(i.y, i.x, comp_y, comp_x) for i in tqdm(final.itertuples(), total = final.shape[0])]"
   ]
  },
  {
   "cell_type": "code",
   "execution_count": 144,
   "id": "dedef583-0632-45b3-b132-32bd0f010d3c",
   "metadata": {},
   "outputs": [],
   "source": [
    "final_csv = pd.concat([final, pd.DataFrame(expected_times, columns = ['expected_time', 'distance_comp'])], axis=1)\n",
    "final_csv.to_csv(f'data/final{service_date}_{current_str}.csv', index = False, encoding='utf-8-sig')"
   ]
  }
 ],
 "metadata": {
  "kernelspec": {
   "display_name": "Python 3 (ipykernel)",
   "language": "python",
   "name": "python3"
  },
  "language_info": {
   "codemirror_mode": {
    "name": "ipython",
    "version": 3
   },
   "file_extension": ".py",
   "mimetype": "text/x-python",
   "name": "python",
   "nbconvert_exporter": "python",
   "pygments_lexer": "ipython3",
   "version": "3.10.12"
  }
 },
 "nbformat": 4,
 "nbformat_minor": 5
}
