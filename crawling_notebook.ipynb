{
 "cells": [
  {
   "cell_type": "code",
   "execution_count": 45,
   "id": "043ca6bb-d69a-46bd-b191-bcda74d519f3",
   "metadata": {},
   "outputs": [],
   "source": [
    "import requests\n",
    "from bs4 import BeautifulSoup\n",
    "import re\n",
    "import pandas as pd\n",
    "import numpy as np\n",
    "import time\n",
    "from tqdm.notebook import tqdm \n",
    "import datetime as dt\n",
    "import pytz\n",
    "import glob\n",
    "import os\n",
    "from custom_modules.hugdd_preprocess.crawling import parse_oneline, parse_onepage, get_img_link\n",
    "from custom_modules.hugdd_preprocess.kakao import kakaomap_rest_api"
   ]
  },
  {
   "cell_type": "code",
   "execution_count": null,
   "id": "e7600dc6",
   "metadata": {},
   "outputs": [],
   "source": [
    "from dotenv import load_dotenv\n",
    "load_dotenv()"
   ]
  },
  {
   "cell_type": "code",
   "execution_count": null,
   "id": "d6ee6d7b",
   "metadata": {},
   "outputs": [],
   "source": [
    "kakao_api_key = os.getenv('KAKAO_REST_API_KEY')"
   ]
  },
  {
   "cell_type": "code",
   "execution_count": null,
   "id": "3438256c",
   "metadata": {},
   "outputs": [],
   "source": [
    "kakaomap = kakaomap_rest_api(kakao_api_key)"
   ]
  },
  {
   "cell_type": "code",
   "execution_count": 46,
   "id": "3092e3ca-b35e-47b6-b6ae-b737bf95366e",
   "metadata": {},
   "outputs": [
    {
     "data": {
      "text/plain": [
       "'241107'"
      ]
     },
     "execution_count": 46,
     "metadata": {},
     "output_type": "execute_result"
    }
   ],
   "source": [
    "def get_seoul_time():\n",
    "    seoul_tz = pytz.timezone('Asia/Seoul')\n",
    "    seoul_time = dt.datetime.now(seoul_tz)\n",
    "    return seoul_time\n",
    "current_date = get_seoul_time()\n",
    "current_str = current_date.strftime('%y%m%d')\n",
    "current_str"
   ]
  },
  {
   "cell_type": "markdown",
   "id": "84286a79",
   "metadata": {},
   "source": [
    "## 든든전세 페이지 크롤링"
   ]
  },
  {
   "cell_type": "code",
   "execution_count": 49,
   "id": "8df4b3d4-d358-44a5-8653-88b2882724cf",
   "metadata": {},
   "outputs": [],
   "source": [
    "sample = parse_onepage(1) \n",
    "service_date = sample.loc[0, '공고일자']"
   ]
  },
  {
   "cell_type": "code",
   "execution_count": 50,
   "id": "2f26ac1f-9970-4bfa-b1ce-41d4422f5456",
   "metadata": {},
   "outputs": [
    {
     "data": {
      "application/vnd.jupyter.widget-view+json": {
       "model_id": "b71292bb7c284065b94de49e0cc76ede",
       "version_major": 2,
       "version_minor": 0
      },
      "text/plain": [
       "  0%|          | 0/13 [00:00<?, ?it/s]"
      ]
     },
     "metadata": {},
     "output_type": "display_data"
    }
   ],
   "source": [
    "list_num = 50\n",
    "datas = [parse_onepage(n) for n in tqdm(range(1,list_num+1))]"
   ]
  },
  {
   "cell_type": "code",
   "execution_count": 51,
   "id": "55c80dee-f5a0-4d41-9046-e17985583566",
   "metadata": {},
   "outputs": [],
   "source": [
    "final_data = pd.concat(datas).reset_index(drop=True).assign(address = lambda df: df['주소'].apply(lambda x: x.split('  ')[0] if ',' not in x else  x.split('  ')[0].split(',')[0])\n",
    "                                               # .apply(lambda x: ' '.join([i for i in x.split(' ') if i !='']))\n",
    "                                              )\n",
    "final_data.to_csv(f'data/crawling{service_date}_{current_str}.csv', index = False, encoding = 'utf-8-sig')"
   ]
  },
  {
   "cell_type": "code",
   "execution_count": 52,
   "id": "09207234-51d7-42b8-aac5-b604909f0691",
   "metadata": {},
   "outputs": [],
   "source": [
    "final_data=pd.read_csv(f'data/crawling{service_date}_{current_str}.csv')"
   ]
  },
  {
   "cell_type": "markdown",
   "id": "8425df3a",
   "metadata": {},
   "source": [
    "## 카카오 api 설정\n",
    "### 주소 좌표 변환(위경도)"
   ]
  },
  {
   "cell_type": "code",
   "execution_count": 54,
   "id": "1692036e-d224-461b-bcda-9e2e4f724f0d",
   "metadata": {
    "scrolled": true
   },
   "outputs": [
    {
     "data": {
      "application/vnd.jupyter.widget-view+json": {
       "model_id": "2340089f970f4244afcef24f3e836df5",
       "version_major": 2,
       "version_minor": 0
      },
      "text/plain": [
       "  0%|          | 0/122 [00:00<?, ?it/s]"
      ]
     },
     "metadata": {},
     "output_type": "display_data"
    }
   ],
   "source": [
    "coordinates = [kakaomap.convert_address_to_coordinates(i) for i in tqdm(final_data.address.values)]"
   ]
  },
  {
   "cell_type": "code",
   "execution_count": 55,
   "id": "aeae6f40-4949-4eea-bc93-7fce4ee48b20",
   "metadata": {},
   "outputs": [],
   "source": [
    "final_data0 = pd.concat([final_data, pd.DataFrame(coordinates, columns = ['x','y'])], axis=1)"
   ]
  },
  {
   "cell_type": "code",
   "execution_count": null,
   "id": "2c12e1fb",
   "metadata": {},
   "outputs": [],
   "source": [
    "final_data0.to_csv(f'data/crawling{service_date}_{current_str}_addcoord.csv', index = False, encoding = 'utf-8-sig')"
   ]
  },
  {
   "cell_type": "code",
   "execution_count": null,
   "id": "529dbc2b",
   "metadata": {},
   "outputs": [],
   "source": [
    "final_data0 = pd.read_csv(\"data/crawling20250326_250331_addcoord.csv\")"
   ]
  },
  {
   "cell_type": "markdown",
   "id": "a078439b",
   "metadata": {},
   "source": [
    "## 해당 매물 구조도 이미지 가져오기"
   ]
  },
  {
   "cell_type": "code",
   "execution_count": 57,
   "id": "85d2aa91-2262-4e99-aad3-5a62af42da35",
   "metadata": {},
   "outputs": [],
   "source": [
    "# 배치 처리 방식으로 이미지 링크 수집\n",
    "def get_all_img_links_batch(href_ids, dt='20241007', batch_size=5):\n",
    "    results = []\n",
    "    for i in tqdm(range(0, len(href_ids), batch_size)):\n",
    "        batch = href_ids[i:i + batch_size]\n",
    "        for href_id in batch:\n",
    "            img_link = get_img_link(href_id, dt)\n",
    "            results.append(img_link)\n",
    "        # 배치 처리 후 잠시 대기\n",
    "        time.sleep(1.5)\n",
    "    return results\n",
    "\n"
   ]
  },
  {
   "cell_type": "code",
   "execution_count": 58,
   "id": "73117c63-4338-4f54-8b15-798a3812b7c9",
   "metadata": {},
   "outputs": [
    {
     "data": {
      "application/vnd.jupyter.widget-view+json": {
       "model_id": "7910189388a3478ba5d3fd9b40bb66d7",
       "version_major": 2,
       "version_minor": 0
      },
      "text/plain": [
       "  0%|          | 0/122 [00:00<?, ?it/s]"
      ]
     },
     "metadata": {},
     "output_type": "display_data"
    }
   ],
   "source": [
    "# 실행\n",
    "imgs = get_all_img_links_batch(final_data0.href_id.values, dt=service_date, batch_size=5)"
   ]
  },
  {
   "cell_type": "code",
   "execution_count": 59,
   "id": "0ca933db-d4c3-4ee0-953a-962fe3b19248",
   "metadata": {},
   "outputs": [],
   "source": [
    "final_data = final_data0.assign(img = imgs)"
   ]
  },
  {
   "cell_type": "code",
   "execution_count": 60,
   "id": "5e1cd0f7-0f96-49d7-9460-a38ad73b78f7",
   "metadata": {},
   "outputs": [],
   "source": [
    "final_data.to_csv(f'data/data{service_date}_{current_str}.csv', index = False, encoding = 'utf-8-sig')"
   ]
  },
  {
   "cell_type": "code",
   "execution_count": 61,
   "id": "724f2fe1-344d-41ef-b3dd-6a8a142cc154",
   "metadata": {},
   "outputs": [
    {
     "data": {
      "text/html": [
       "<div>\n",
       "<style scoped>\n",
       "    .dataframe tbody tr th:only-of-type {\n",
       "        vertical-align: middle;\n",
       "    }\n",
       "\n",
       "    .dataframe tbody tr th {\n",
       "        vertical-align: top;\n",
       "    }\n",
       "\n",
       "    .dataframe thead th {\n",
       "        text-align: right;\n",
       "    }\n",
       "</style>\n",
       "<table border=\"1\" class=\"dataframe\">\n",
       "  <thead>\n",
       "    <tr style=\"text-align: right;\">\n",
       "      <th></th>\n",
       "      <th>번호</th>\n",
       "      <th>공고일자</th>\n",
       "      <th>청약 접수기간</th>\n",
       "      <th>시도</th>\n",
       "      <th>시군구</th>\n",
       "      <th>주소</th>\n",
       "      <th>주택유형</th>\n",
       "      <th>전용면적(m2)</th>\n",
       "      <th>임대보증금액</th>\n",
       "      <th>신청자수</th>\n",
       "      <th>href_id</th>\n",
       "      <th>address</th>\n",
       "      <th>x</th>\n",
       "      <th>y</th>\n",
       "      <th>img</th>\n",
       "    </tr>\n",
       "  </thead>\n",
       "  <tbody>\n",
       "    <tr>\n",
       "      <th>0</th>\n",
       "      <td>122</td>\n",
       "      <td>20241031</td>\n",
       "      <td>2024.10.31. 10:00 ~ 2024.11.14. 17:00</td>\n",
       "      <td>서울특별시</td>\n",
       "      <td>서울 강동구</td>\n",
       "      <td>서울 강동구 천호동 562, 562-1 스카이캐슬라 8층 802호</td>\n",
       "      <td>다세대주택</td>\n",
       "      <td>15.21</td>\n",
       "      <td>152,100,000</td>\n",
       "      <td>668</td>\n",
       "      <td>no=2023040345</td>\n",
       "      <td>서울 강동구 천호동 562</td>\n",
       "      <td>37.539597</td>\n",
       "      <td>127.130622</td>\n",
       "      <td>http://www.khug.or.kr/updata/khgc/khgccms/cms/...</td>\n",
       "    </tr>\n",
       "  </tbody>\n",
       "</table>\n",
       "</div>"
      ],
      "text/plain": [
       "    번호      공고일자                                청약 접수기간     시도     시군구  \\\n",
       "0  122  20241031  2024.10.31. 10:00 ~ 2024.11.14. 17:00  서울특별시  서울 강동구   \n",
       "\n",
       "                                     주소   주택유형  전용면적(m2)       임대보증금액  신청자수  \\\n",
       "0  서울 강동구 천호동 562, 562-1 스카이캐슬라 8층 802호  다세대주택     15.21  152,100,000   668   \n",
       "\n",
       "         href_id         address          x           y  \\\n",
       "0  no=2023040345  서울 강동구 천호동 562  37.539597  127.130622   \n",
       "\n",
       "                                                 img  \n",
       "0  http://www.khug.or.kr/updata/khgc/khgccms/cms/...  "
      ]
     },
     "execution_count": 61,
     "metadata": {},
     "output_type": "execute_result"
    }
   ],
   "source": [
    "final_data.head(1)"
   ]
  },
  {
   "cell_type": "code",
   "execution_count": 62,
   "id": "c71a2a79-c875-4675-b6bc-110223eae299",
   "metadata": {},
   "outputs": [],
   "source": [
    "processing_data = pd.read_csv(f'data/data{service_date}_{current_str}.csv')"
   ]
  },
  {
   "cell_type": "markdown",
   "id": "3926be02",
   "metadata": {},
   "source": [
    "## 지하철 역 거리 계산"
   ]
  },
  {
   "cell_type": "code",
   "execution_count": 63,
   "id": "f8feb99b-337e-4eba-9bef-ec50ec3a21b6",
   "metadata": {},
   "outputs": [],
   "source": [
    "import geopandas as gpd\n",
    "from shapely.geometry import Point\n",
    "import shapely"
   ]
  },
  {
   "cell_type": "code",
   "execution_count": 64,
   "id": "52ccf595-33b2-4c1c-bc04-19b7b6103ce2",
   "metadata": {},
   "outputs": [],
   "source": [
    "processing_final = processing_data.assign(\n",
    "    deposit = lambda df: df['임대보증금액'].apply(lambda x: int(x.replace(',', ''))/10000),\n",
    "    m2 = lambda df: df['전용면적(m2)'],\n",
    "    deposit_m2 = lambda df: df.deposit/df.m2)\n"
   ]
  },
  {
   "cell_type": "code",
   "execution_count": 65,
   "id": "eefbe98d-c273-424e-b7a3-b94a01b90b23",
   "metadata": {},
   "outputs": [],
   "source": [
    "processing_final.columns\n"
   ]
  },
  {
   "cell_type": "code",
   "execution_count": 66,
   "id": "6bbd462d-48e7-49df-87b2-f0d34f8da8d2",
   "metadata": {},
   "outputs": [],
   "source": [
    "sample_x, sample_y = processing_final.loc[0,['x', 'y']]"
   ]
  },
  {
   "cell_type": "code",
   "execution_count": 67,
   "id": "2fbfc719-18a6-4c6e-bc30-73c093770f16",
   "metadata": {},
   "outputs": [],
   "source": [
    "def find_near_subway_station(x, y, max_distance = 3000):\n",
    "    time.sleep(0.2)\n",
    "    results = kakaomap.search_by_category('SW8', y, x, 3000) # 위경도 바꿔어서 입력\n",
    "    if len(results.get('documents'))!=0:\n",
    "        near_result = results.get('documents')[0]\n",
    "        return near_result.get('distance'), near_result.get('place_name')\n",
    "    else:\n",
    "        print('no result')\n",
    "    "
   ]
  },
  {
   "cell_type": "code",
   "execution_count": 68,
   "id": "9229a10f-ab97-4e03-8cba-950e21115cb5",
   "metadata": {},
   "outputs": [],
   "source": [
    "near_stations = [find_near_subway_station(row.x, row.y) for row in tqdm(processing_final.itertuples(), total = processing_final.shape[0])]"
   ]
  },
  {
   "cell_type": "code",
   "execution_count": 69,
   "id": "dd228db0-b554-44d7-a729-c2c1b7ae4f6f",
   "metadata": {},
   "outputs": [],
   "source": [
    "final = pd.concat([processing_final, pd.DataFrame(near_stations, columns = [\"distanceM_near_station\", \"near_station\"])], axis=1)"
   ]
  },
  {
   "cell_type": "code",
   "execution_count": null,
   "id": "e53ac1d5",
   "metadata": {},
   "outputs": [],
   "source": [
    "final.to_csv(f'data/data{service_date}_{current_str}_addstation.csv', index = False, encoding = 'utf-8-sig')"
   ]
  },
  {
   "cell_type": "code",
   "execution_count": 70,
   "id": "a43ed59b-e978-429f-af8c-098f9065da1d",
   "metadata": {
    "scrolled": true
   },
   "outputs": [],
   "source": [
    "final = pd.read_csv(f'data/data{service_date}_{current_str}_addstation.csv')"
   ]
  },
  {
   "cell_type": "markdown",
   "id": "a97dd961",
   "metadata": {},
   "source": [
    "## 통근시간 계산"
   ]
  },
  {
   "cell_type": "code",
   "execution_count": 86,
   "id": "60f96071-03ac-4023-bb7d-b6f0c2232944",
   "metadata": {},
   "outputs": [],
   "source": [
    "from dateutil import relativedelta\n",
    "tomorrow = current_date+relativedelta.relativedelta(days=1)"
   ]
  },
  {
   "cell_type": "code",
   "execution_count": 118,
   "id": "2c02db41-1254-47ae-bf97-b1e42f6764b1",
   "metadata": {},
   "outputs": [],
   "source": [
    "comp_x, comp_y =  37.5058315272521, 127.040806473603\n"
   ]
  },
  {
   "cell_type": "code",
   "execution_count": 139,
   "id": "58fcde98-4211-48b1-aa9b-bf1ef02f427c",
   "metadata": {},
   "outputs": [
    {
     "data": {
      "application/vnd.jupyter.widget-view+json": {
       "model_id": "6ef7797df174414dba8b6344d624dbf7",
       "version_major": 2,
       "version_minor": 0
      },
      "text/plain": [
       "  0%|          | 0/122 [00:00<?, ?it/s]"
      ]
     },
     "metadata": {},
     "output_type": "display_data"
    }
   ],
   "source": [
    "expected_times = [kakaomap.calculate_transit_time(i.y, i.x, comp_y, comp_x) for i in tqdm(final.itertuples(), total = final.shape[0])]"
   ]
  },
  {
   "cell_type": "code",
   "execution_count": 144,
   "id": "dedef583-0632-45b3-b132-32bd0f010d3c",
   "metadata": {},
   "outputs": [],
   "source": [
    "final_csv = pd.concat([final, pd.DataFrame(expected_times, columns = ['expected_time', 'distance_comp'])], axis=1)\n",
    "final_csv.to_csv(f'data/final{service_date}_{current_str}.csv', index = False, encoding='utf-8-sig')"
   ]
  },
  {
   "cell_type": "markdown",
   "id": "2f2f7b4a",
   "metadata": {},
   "source": [
    "## 신청자수 업데이트"
   ]
  },
  {
   "cell_type": "code",
   "execution_count": null,
   "id": "c0ecc189",
   "metadata": {},
   "outputs": [],
   "source": [
    "list_num = 50\n",
    "datas = [parse_onepage(n) for n in tqdm(range(1,list_num+1))]"
   ]
  },
  {
   "cell_type": "code",
   "execution_count": null,
   "id": "0a921d62",
   "metadata": {},
   "outputs": [],
   "source": [
    "final_data = pd.concat(datas).reset_index(drop=True).assign(address = lambda df: df['주소'].apply(lambda x: x.split('  ')[0] if ',' not in x else  x.split('  ')[0].split(',')[0])\n",
    "                                               # .apply(lambda x: ' '.join([i for i in x.split(' ') if i !='']))\n",
    "                                              )\n",
    "final_data.to_csv(f'data/crawling{service_date}_{current_str}.csv', index = False, encoding = 'utf-8-sig')\n",
    "csv_list = sorted(glob.glob(f\"data/final{service_date}_*.csv\"))\n",
    "final_csv=pd.read_csv(csv_list[-1])"
   ]
  },
  {
   "cell_type": "code",
   "execution_count": null,
   "id": "9bbae20d",
   "metadata": {},
   "outputs": [],
   "source": [
    "final_csv0 = final_csv.drop(columns = '신청자수')\n",
    "final_csv0['신청자수'] = final_data['신청자수']\n",
    "final_csv0.to_csv(f'data/final{service_date}_{current_str}.csv', index = False, encoding='utf-8-sig')"
   ]
  },
  {
   "cell_type": "markdown",
   "id": "fc6c593b",
   "metadata": {},
   "source": [
    "## 이미지 다운로드 및 llm 기반 방구조도 분석"
   ]
  },
  {
   "cell_type": "markdown",
   "id": "d870fbc6",
   "metadata": {},
   "source": [
    "### 이미지 다운로드 "
   ]
  },
  {
   "cell_type": "code",
   "execution_count": null,
   "id": "06ec766f",
   "metadata": {},
   "outputs": [],
   "source": [
    "def download_image(img_url, save_path, filename, max_retries=3, timeout=30):\n",
    "    for attempt in range(max_retries):\n",
    "        try:\n",
    "            # SSL 검증 비활성화 및 타임아웃 설정\n",
    "            response = requests.get(img_url, verify=False, timeout=timeout)\n",
    "            response.raise_for_status()\n",
    "            \n",
    "            os.makedirs(save_path, exist_ok=True)\n",
    "            file_path = os.path.join(save_path, filename)\n",
    "            \n",
    "            with open(file_path, 'wb') as f:\n",
    "                f.write(response.content)\n",
    "            return True\n",
    "            \n",
    "        except requests.Timeout:\n",
    "            if attempt < max_retries - 1:\n",
    "                print(f\"타임아웃 발생 ({filename}), {attempt + 1}/{max_retries} 재시도\")\n",
    "                time.sleep(2)  # 타임아웃 발생 시 더 긴 대기\n",
    "            else:\n",
    "                print(f\"최대 타임아웃 재시도 횟수 초과 ({filename})\")\n",
    "                return False\n",
    "                \n",
    "        except Exception as e:\n",
    "            if attempt < max_retries - 1:\n",
    "                print(f\"다운로드 시도 {attempt + 1}/{max_retries} 실패: {e}\")\n",
    "                time.sleep(1)\n",
    "            else:\n",
    "                print(f\"최대 재시도 횟수 초과 ({filename}): {e}\")\n",
    "                return False\n",
    "\n",
    "def download_images_batch(df, batch_size=2, save_path='downloaded_images', max_retries=3, \n",
    "                         timeout=30, delay_between_batches=3):\n",
    "    downloaded_paths = []\n",
    "    \n",
    "    # 이미지 다운로드\n",
    "    for i in tqdm(range(0, df.shape[0], batch_size), desc=\"이미지 다운로드 중\"):\n",
    "        batch = df.loc[i:i + batch_size, :]\n",
    "        \n",
    "        for row in batch.itertuples():\n",
    "            img_url = row.img\n",
    "            if img_url:\n",
    "                filename = f\"{row.번호}.jpg\"\n",
    "                if download_image(img_url, save_path, filename, max_retries=max_retries, timeout=timeout):\n",
    "                    downloaded_paths.append(os.path.join(save_path, filename))\n",
    "                else:\n",
    "                    print(f\"이미지 다운로드 실패: {filename}\")\n",
    "        \n",
    "        # 배치 처리 후 대기\n",
    "        time.sleep(delay_between_batches)\n",
    "        \n",
    "        # # 진행 상황 저장 (선택사항)\n",
    "        # progress = {\n",
    "        #     'downloaded': downloaded_paths,\n",
    "        #     'current_index': i + batch_size\n",
    "        # }\n",
    "        # with open('download_progress.json', 'w') as f:\n",
    "        #     json.dump(progress, f)\n",
    "    \n",
    "    return downloaded_paths\n",
    "\n"
   ]
  },
  {
   "cell_type": "code",
   "execution_count": null,
   "id": "def12ca0",
   "metadata": {},
   "outputs": [],
   "source": [
    "# 실행\n",
    "downloaded_paths = download_images_batch(\n",
    "    final_csv.loc[:30,:], \n",
    "    batch_size=3,  # 배치 사이즈\n",
    "    max_retries=3,\n",
    "    timeout=30,    # 타임아웃 시간\n",
    "    delay_between_batches=5  # 배치 간 대기 시간\n",
    ")"
   ]
  },
  {
   "cell_type": "markdown",
   "id": "532c00dc",
   "metadata": {},
   "source": [
    "### llm 기반 구조도 분석"
   ]
  },
  {
   "cell_type": "code",
   "execution_count": null,
   "id": "26aef4a9",
   "metadata": {},
   "outputs": [],
   "source": [
    "from custom_modules.room_analyzer.nodes import logger\n",
    "import base64\n",
    "def save_image(state:GraphState):\n",
    "    \"\"\"\n",
    "    Save image\n",
    "\n",
    "    Args:\n",
    "        state (GraphState): The current graph state\n",
    "    \"\"\"\n",
    "\n",
    "    logger.info(\"---SAVE IMAGE ---\")\n",
    "    save_path = \"downloaded_images\"\n",
    "    os.makedirs(save_path, exist_ok=True)\n",
    "    filename = f\"{state['image_id']:03d}\"\n",
    "    base64_string = state['image_str']\n",
    "    file_path = os.path.join(save_path, filename)\n",
    "\n",
    "    if ',' in base64_string:\n",
    "        base64_string = base64_string.split(',')[1]\n",
    "    image_data = base64.b64decode(base64_string)\n",
    "    \n",
    "    with open(file_path+\".png\", 'wb') as f:\n",
    "        f.write(image_data)\n",
    "        \n",
    "    print(\"Image Saved in\", file_path)"
   ]
  },
  {
   "cell_type": "code",
   "execution_count": null,
   "id": "24ffb8f2",
   "metadata": {},
   "outputs": [],
   "source": [
    "from langgraph.graph import StateGraph, START, END\n",
    "from custom_modules.room_analyzer.nodes import download_image, describe_image, check_image_description\n",
    "from custom_modules.room_analyzer.edges import decide_to_generate, decide_to_regenerate\n",
    "from custom_modules.room_analyzer.models import GraphState\n",
    "\n",
    "# Define a new graph\n",
    "workflow = StateGraph(GraphState)\n",
    "\n",
    "# Define the nodes we will cycle between\n",
    "workflow.add_node(\"download_image\", download_image)\n",
    "workflow.add_node(\"save_image\", save_image)\n",
    "workflow.add_node(\"describe_image\", describe_image)\n",
    "workflow.add_node(\"check_image_description\", check_image_description)\n",
    "\n",
    "# Add edges\n",
    "workflow.add_edge(START, \"download_image\")\n",
    "workflow.add_edge(\"download_image\", \"save_image\")\n",
    "\n",
    "\n",
    "workflow.add_conditional_edges(\n",
    "    \"download_image\",\n",
    "    decide_to_generate,\n",
    "    {\n",
    "        \"end\": END,\n",
    "        \"generate\": \"describe_image\"\n",
    "    }\n",
    ")\n",
    "\n",
    "workflow.add_edge(\"describe_image\", \"check_image_description\")\n",
    "\n",
    "workflow.add_conditional_edges(\n",
    "    \"check_image_description\",\n",
    "    decide_to_regenerate,\n",
    "    {\n",
    "        \"nextstep\": END,\n",
    "        \"regenerate\": \"describe_image\",\n",
    "        \"end\": END\n",
    "    }\n",
    ")\n",
    "\n",
    "# Compile\n",
    "graph = workflow.compile()"
   ]
  },
  {
   "cell_type": "code",
   "execution_count": null,
   "id": "4618fd62",
   "metadata": {},
   "outputs": [],
   "source": [
    "from IPython.display import Image, display\n",
    "\n",
    "try:\n",
    "    display(Image(graph.get_graph(xray=True).draw_mermaid_png()))\n",
    "except Exception:\n",
    "    print(graph.get_graph().draw_ascii())\n",
    "    pass"
   ]
  },
  {
   "cell_type": "code",
   "execution_count": null,
   "id": "87a73c3e",
   "metadata": {},
   "outputs": [],
   "source": [
    "result_end = graph.invoke({\"image_url\":final_csv.loc[0,\"img\"], \"image_id\":final_csv.loc[0,\"번호\"]})"
   ]
  }
 ],
 "metadata": {
  "kernelspec": {
   "display_name": "Python 3 (ipykernel)",
   "language": "python",
   "name": "python3"
  },
  "language_info": {
   "codemirror_mode": {
    "name": "ipython",
    "version": 3
   },
   "file_extension": ".py",
   "mimetype": "text/x-python",
   "name": "python",
   "nbconvert_exporter": "python",
   "pygments_lexer": "ipython3",
   "version": "3.10.12"
  }
 },
 "nbformat": 4,
 "nbformat_minor": 5
}
