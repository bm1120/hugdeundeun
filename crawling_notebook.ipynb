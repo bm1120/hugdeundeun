{
 "cells": [
  {
   "cell_type": "code",
   "execution_count": 45,
   "id": "043ca6bb-d69a-46bd-b191-bcda74d519f3",
   "metadata": {},
   "outputs": [],
   "source": [
    "import requests\n",
    "from bs4 import BeautifulSoup\n",
    "import re\n",
    "import pandas as pd\n",
    "import numpy as np\n",
    "import time\n",
    "from tqdm.notebook import tqdm \n",
    "import datetime as dt\n",
    "import pytz\n",
    "import glob"
   ]
  },
  {
   "cell_type": "code",
   "execution_count": null,
   "id": "e7600dc6",
   "metadata": {},
   "outputs": [],
   "source": [
    "from dotenv import load_dotenv\n",
    "load_dotenv()"
   ]
  },
  {
   "cell_type": "code",
   "execution_count": null,
   "id": "d6ee6d7b",
   "metadata": {},
   "outputs": [],
   "source": [
    "kakao_api_key = os.getenv('KAKAO_REST_API_KEY')"
   ]
  },
  {
   "cell_type": "code",
   "execution_count": 46,
   "id": "3092e3ca-b35e-47b6-b6ae-b737bf95366e",
   "metadata": {},
   "outputs": [
    {
     "data": {
      "text/plain": [
       "'241107'"
      ]
     },
     "execution_count": 46,
     "metadata": {},
     "output_type": "execute_result"
    }
   ],
   "source": [
    "def get_seoul_time():\n",
    "    seoul_tz = pytz.timezone('Asia/Seoul')\n",
    "    seoul_time = dt.datetime.now(seoul_tz)\n",
    "    return seoul_time\n",
    "current_date = get_seoul_time()\n",
    "current_str = current_date.strftime('%y%m%d')\n",
    "current_str"
   ]
  },
  {
   "cell_type": "markdown",
   "id": "84286a79",
   "metadata": {},
   "source": [
    "## 든든전세 페이지 크롤링"
   ]
  },
  {
   "cell_type": "code",
   "execution_count": 47,
   "id": "26fd21ea-009d-46d9-a198-95a4781359e9",
   "metadata": {},
   "outputs": [],
   "source": [
    "def parse_oneline(txt):\n",
    "    output = [i for i in txt.split('\\n')]\n",
    "    return output\n",
    "\n",
    "def parse_onepage(page_num):\n",
    "    time.sleep(0.5)\n",
    "    html=requests.get(f\"https://www.khug.or.kr/jeonse/web/s07/s070102.jsp?cur_page={page_num}\", verify=False)\n",
    "    tb_TF = False\n",
    "    try_cnt=0\n",
    "    while not tb_TF:\n",
    "        if try_cnt>10:\n",
    "            raise\n",
    "        time.sleep(1) \n",
    "        bs_test = BeautifulSoup(html.text, 'html.parser')\n",
    "        if bs_test.find('table'):\n",
    "            tb_TF = True \n",
    "        else:\n",
    "            tb_TF = False\n",
    "        try_cnt+=1\n",
    "        \n",
    "    tables = bs_test.find('table')\n",
    "    thead = tables.find('thead')\n",
    "    tab_cols = parse_oneline(thead.get_text().strip())\n",
    "    tbody = tables.find('tbody')\n",
    "    output_tab = pd.DataFrame([parse_oneline(i.strip()) for i in tbody.get_text().strip().split('\\n\\n')], columns=tab_cols)\n",
    "    output_tab = output_tab.assign(href_id = [re.search('no=\\d{10}', i['href']).group() for i in tbody.find_all(href=True)])\n",
    "    return output_tab"
   ]
  },
  {
   "cell_type": "code",
   "execution_count": 49,
   "id": "8df4b3d4-d358-44a5-8653-88b2882724cf",
   "metadata": {},
   "outputs": [],
   "source": [
    "sample = parse_onepage(1) \n",
    "service_date = sample.loc[0, '공고일자']"
   ]
  },
  {
   "cell_type": "code",
   "execution_count": 50,
   "id": "2f26ac1f-9970-4bfa-b1ce-41d4422f5456",
   "metadata": {},
   "outputs": [
    {
     "data": {
      "application/vnd.jupyter.widget-view+json": {
       "model_id": "b71292bb7c284065b94de49e0cc76ede",
       "version_major": 2,
       "version_minor": 0
      },
      "text/plain": [
       "  0%|          | 0/13 [00:00<?, ?it/s]"
      ]
     },
     "metadata": {},
     "output_type": "display_data"
    }
   ],
   "source": [
    "list_num = 50\n",
    "datas = [parse_onepage(n) for n in tqdm(range(1,list_num+1))]"
   ]
  },
  {
   "cell_type": "code",
   "execution_count": 51,
   "id": "55c80dee-f5a0-4d41-9046-e17985583566",
   "metadata": {},
   "outputs": [],
   "source": [
    "final_data = pd.concat(datas).reset_index(drop=True).assign(address = lambda df: df['주소'].apply(lambda x: x.split('  ')[0] if ',' not in x else  x.split('  ')[0].split(',')[0])\n",
    "                                               # .apply(lambda x: ' '.join([i for i in x.split(' ') if i !='']))\n",
    "                                              )\n",
    "final_data.to_csv(f'data/crawling{service_date}_{current_str}.csv', index = False, encoding = 'utf-8-sig')"
   ]
  },
  {
   "cell_type": "code",
   "execution_count": 52,
   "id": "09207234-51d7-42b8-aac5-b604909f0691",
   "metadata": {},
   "outputs": [],
   "source": [
    "final_data=pd.read_csv(f'data/crawling{service_date}_{current_str}.csv')"
   ]
  },
  {
   "cell_type": "markdown",
   "id": "8425df3a",
   "metadata": {},
   "source": [
    "## 카카오 api 설정\n",
    "### 주소 좌표 변환(위경도)"
   ]
  },
  {
   "cell_type": "code",
   "execution_count": null,
   "id": "46b984f0-254a-446a-a945-356d8e228879",
   "metadata": {},
   "outputs": [],
   "source": [
    "import requests\n",
    "import json\n",
    "class kakaomap_rest_api:\n",
    "    def __init__(self, api_token):\n",
    "        self.api_token = api_token\n",
    "    \n",
    "    def convert_address_to_coordinates(self, address):\n",
    "        \"\"\"\n",
    "        입력받은 주소를 WGS84 좌표계 좌표로 변환(카카오맵api)\n",
    "        \"\"\"\n",
    "    \n",
    "        url = 'https://dapi.kakao.com/v2/local/search/address.json?query=' + address\n",
    "        \n",
    "        header = {'Authorization': 'KakaoAK ' + self.api_token}\n",
    "     \n",
    "        r = requests.get(url, headers=header)\n",
    "        \n",
    "        if (r.status_code == 200) and len(r.json()[\"documents\"])>0:\n",
    "            lng = float(r.json()[\"documents\"][0][\"address\"]['x'])\n",
    "            lat = float(r.json()[\"documents\"][0][\"address\"]['y'])\n",
    "        else:\n",
    "            return None\n",
    "        return lat, lng\n",
    "\n",
    "    \n",
    "    def search_by_category(self, category_group_code,  x, y, radius):\n",
    "        \"\"\"\n",
    "        카테고리로 장소를 검색하는 함수\n",
    "        \n",
    "        Args:\n",
    "            api_key (str): 카카오 개발자 REST API 키\n",
    "            category_group_code (str): 카테고리 그룹 코드\n",
    "            x(float): 경도(longitude)\n",
    "            y(float): 위도(latitude)\n",
    "            radius (int): 검색 반경 (미터 단위)\n",
    "            \n",
    "        \n",
    "        Returns:\n",
    "            dict: 검색 결과\n",
    "        \"\"\"\n",
    "        url = \"https://dapi.kakao.com/v2/local/search/category.json\"\n",
    "        \n",
    "        headers = {\n",
    "            \"Authorization\": f\"KakaoAK {self.api_token}\",\n",
    "            \"Content-Type\": \"application/json\"\n",
    "        }\n",
    "        \n",
    "        params = {\n",
    "            \"category_group_code\": category_group_code,\n",
    "            \"radius\": radius,\n",
    "            \"x\":f\"{x}\",\n",
    "            \"y\":f\"{y}\",\n",
    "            \"sort\":\"distance\",\n",
    "            \"size\":\"5\"\n",
    "        }\n",
    "        \n",
    "        try:\n",
    "            response = requests.get(url, headers=headers, params=params)\n",
    "            response.raise_for_status()\n",
    "            return response.json()\n",
    "            \n",
    "        except requests.exceptions.RequestException as e:\n",
    "            print(f\"API 요청 중 오류 발생: {e}\")\n",
    "            return None\n",
    "\n",
    "    def calculate_transit_time(self, origin_y, origin_x, dest_y, dest_x):\n",
    "        time.sleep(0.2)\n",
    "        url = \"https://apis-navi.kakaomobility.com/v1/directions\"\n",
    "        headers = {\"Authorization\": f\"KakaoAK {self.api_token}\"}\n",
    "        params = {\n",
    "            \"origin\": f\"{origin_y},{origin_x}\",\n",
    "            \"destination\": f\"{dest_y},{dest_x}\",\n",
    "            \"priority\": \"RECOMMEND\",\n",
    "            \"car_fuel\": \"GASOLINE\",\n",
    "            \"car_hipass\": True,\n",
    "            \"alternatives\": False,\n",
    "            \"road_details\": False,\n",
    "            \"roadevent\":2\n",
    "        }\n",
    "        \n",
    "        try:\n",
    "            response = requests.get(url, headers=headers, params=params)\n",
    "            if response.status_code == 200:\n",
    "                result = response.json()\n",
    "                return result['routes'][0]['summary']['duration'] / 60, result['routes'][0]['summary']['distance']\n",
    "            return None\n",
    "        except:\n",
    "            return None\n",
    "            \n",
    "kakaomap = kakaomap_rest_api(kakao_api_key)"
   ]
  },
  {
   "cell_type": "code",
   "execution_count": 54,
   "id": "1692036e-d224-461b-bcda-9e2e4f724f0d",
   "metadata": {
    "scrolled": true
   },
   "outputs": [
    {
     "data": {
      "application/vnd.jupyter.widget-view+json": {
       "model_id": "2340089f970f4244afcef24f3e836df5",
       "version_major": 2,
       "version_minor": 0
      },
      "text/plain": [
       "  0%|          | 0/122 [00:00<?, ?it/s]"
      ]
     },
     "metadata": {},
     "output_type": "display_data"
    }
   ],
   "source": [
    "coordinates = [kakaomap.convert_address_to_coordinates(i) for i in tqdm(final_data.address.values)]"
   ]
  },
  {
   "cell_type": "code",
   "execution_count": 55,
   "id": "aeae6f40-4949-4eea-bc93-7fce4ee48b20",
   "metadata": {},
   "outputs": [],
   "source": [
    "final_data0 = pd.concat([final_data, pd.DataFrame(coordinates, columns = ['x','y'])], axis=1)"
   ]
  },
  {
   "cell_type": "code",
   "execution_count": 56,
   "id": "47393f74-1ab8-4d59-bdc4-499a11d9a328",
   "metadata": {},
   "outputs": [
    {
     "data": {
      "text/html": [
       "<div>\n",
       "<style scoped>\n",
       "    .dataframe tbody tr th:only-of-type {\n",
       "        vertical-align: middle;\n",
       "    }\n",
       "\n",
       "    .dataframe tbody tr th {\n",
       "        vertical-align: top;\n",
       "    }\n",
       "\n",
       "    .dataframe thead th {\n",
       "        text-align: right;\n",
       "    }\n",
       "</style>\n",
       "<table border=\"1\" class=\"dataframe\">\n",
       "  <thead>\n",
       "    <tr style=\"text-align: right;\">\n",
       "      <th></th>\n",
       "      <th>번호</th>\n",
       "      <th>공고일자</th>\n",
       "      <th>청약 접수기간</th>\n",
       "      <th>시도</th>\n",
       "      <th>시군구</th>\n",
       "      <th>주소</th>\n",
       "      <th>주택유형</th>\n",
       "      <th>전용면적(m2)</th>\n",
       "      <th>임대보증금액</th>\n",
       "      <th>신청자수</th>\n",
       "      <th>href_id</th>\n",
       "      <th>address</th>\n",
       "      <th>x</th>\n",
       "      <th>y</th>\n",
       "    </tr>\n",
       "  </thead>\n",
       "  <tbody>\n",
       "    <tr>\n",
       "      <th>0</th>\n",
       "      <td>122</td>\n",
       "      <td>20241031</td>\n",
       "      <td>2024.10.31. 10:00 ~ 2024.11.14. 17:00</td>\n",
       "      <td>서울특별시</td>\n",
       "      <td>서울 강동구</td>\n",
       "      <td>서울 강동구 천호동 562, 562-1 스카이캐슬라 8층 802호</td>\n",
       "      <td>다세대주택</td>\n",
       "      <td>15.21</td>\n",
       "      <td>152,100,000</td>\n",
       "      <td>668</td>\n",
       "      <td>no=2023040345</td>\n",
       "      <td>서울 강동구 천호동 562</td>\n",
       "      <td>37.539597</td>\n",
       "      <td>127.130622</td>\n",
       "    </tr>\n",
       "    <tr>\n",
       "      <th>1</th>\n",
       "      <td>121</td>\n",
       "      <td>20241031</td>\n",
       "      <td>2024.10.31. 10:00 ~ 2024.11.14. 17:00</td>\n",
       "      <td>서울특별시</td>\n",
       "      <td>서울 강서구</td>\n",
       "      <td>서울 강서구 등촌동 637-19 라빌라스 101동 4층 402호</td>\n",
       "      <td>오피스텔(주거용)</td>\n",
       "      <td>29.99</td>\n",
       "      <td>210,600,000</td>\n",
       "      <td>161</td>\n",
       "      <td>no=2022367225</td>\n",
       "      <td>서울 강서구 등촌동 637-19 라빌라스 101동 4층 402호</td>\n",
       "      <td>37.556256</td>\n",
       "      <td>126.859242</td>\n",
       "    </tr>\n",
       "    <tr>\n",
       "      <th>2</th>\n",
       "      <td>120</td>\n",
       "      <td>20241031</td>\n",
       "      <td>2024.10.31. 10:00 ~ 2024.11.14. 17:00</td>\n",
       "      <td>서울특별시</td>\n",
       "      <td>서울 강서구</td>\n",
       "      <td>서울 강서구 등촌동 643-16, 643-17 라테라스 4층 404호</td>\n",
       "      <td>다세대주택</td>\n",
       "      <td>33.51</td>\n",
       "      <td>251,100,000</td>\n",
       "      <td>133</td>\n",
       "      <td>no=2022362498</td>\n",
       "      <td>서울 강서구 등촌동 643-16</td>\n",
       "      <td>37.555297</td>\n",
       "      <td>126.859798</td>\n",
       "    </tr>\n",
       "    <tr>\n",
       "      <th>3</th>\n",
       "      <td>119</td>\n",
       "      <td>20241031</td>\n",
       "      <td>2024.10.31. 10:00 ~ 2024.11.14. 17:00</td>\n",
       "      <td>서울특별시</td>\n",
       "      <td>서울 강서구</td>\n",
       "      <td>서울 강서구 화곡동 105-207 바로크빌 4층 402호</td>\n",
       "      <td>다세대주택</td>\n",
       "      <td>29.90</td>\n",
       "      <td>142,200,000</td>\n",
       "      <td>62</td>\n",
       "      <td>no=2022348197</td>\n",
       "      <td>서울 강서구 화곡동 105-207 바로크빌 4층 402호</td>\n",
       "      <td>37.539887</td>\n",
       "      <td>126.844564</td>\n",
       "    </tr>\n",
       "    <tr>\n",
       "      <th>4</th>\n",
       "      <td>118</td>\n",
       "      <td>20241031</td>\n",
       "      <td>2024.10.31. 10:00 ~ 2024.11.14. 17:00</td>\n",
       "      <td>서울특별시</td>\n",
       "      <td>서울 강서구</td>\n",
       "      <td>서울 강서구 화곡동 1111, 1111-1 에스제이라벨라 10층 1002호</td>\n",
       "      <td>오피스텔(주거용)</td>\n",
       "      <td>20.57</td>\n",
       "      <td>143,100,000</td>\n",
       "      <td>196</td>\n",
       "      <td>no=2023198064</td>\n",
       "      <td>서울 강서구 화곡동 1111</td>\n",
       "      <td>37.554948</td>\n",
       "      <td>126.852357</td>\n",
       "    </tr>\n",
       "    <tr>\n",
       "      <th>...</th>\n",
       "      <td>...</td>\n",
       "      <td>...</td>\n",
       "      <td>...</td>\n",
       "      <td>...</td>\n",
       "      <td>...</td>\n",
       "      <td>...</td>\n",
       "      <td>...</td>\n",
       "      <td>...</td>\n",
       "      <td>...</td>\n",
       "      <td>...</td>\n",
       "      <td>...</td>\n",
       "      <td>...</td>\n",
       "      <td>...</td>\n",
       "      <td>...</td>\n",
       "    </tr>\n",
       "    <tr>\n",
       "      <th>117</th>\n",
       "      <td>5</td>\n",
       "      <td>20241031</td>\n",
       "      <td>2024.10.31. 10:00 ~ 2024.11.14. 17:00</td>\n",
       "      <td>경기도</td>\n",
       "      <td>경기 부천시 원미구</td>\n",
       "      <td>경기 부천시 원미구 원미동 169-1 수팰리스 B동 4층 403호</td>\n",
       "      <td>다세대주택</td>\n",
       "      <td>34.92</td>\n",
       "      <td>144,000,000</td>\n",
       "      <td>6</td>\n",
       "      <td>no=2022363045</td>\n",
       "      <td>경기 부천시 원미구 원미동 169-1 수팰리스 B동 4층 403호</td>\n",
       "      <td>37.494132</td>\n",
       "      <td>126.792039</td>\n",
       "    </tr>\n",
       "    <tr>\n",
       "      <th>118</th>\n",
       "      <td>4</td>\n",
       "      <td>20241031</td>\n",
       "      <td>2024.10.31. 10:00 ~ 2024.11.14. 17:00</td>\n",
       "      <td>경기도</td>\n",
       "      <td>경기 부천시 원미구</td>\n",
       "      <td>경기 부천시 원미구 원미동 200-2, 200-4 송원리치빌 4층 402호</td>\n",
       "      <td>다세대주택</td>\n",
       "      <td>58.20</td>\n",
       "      <td>154,800,000</td>\n",
       "      <td>11</td>\n",
       "      <td>no=2023204224</td>\n",
       "      <td>경기 부천시 원미구 원미동 200-2</td>\n",
       "      <td>37.488685</td>\n",
       "      <td>126.789119</td>\n",
       "    </tr>\n",
       "    <tr>\n",
       "      <th>119</th>\n",
       "      <td>3</td>\n",
       "      <td>20241031</td>\n",
       "      <td>2024.10.31. 10:00 ~ 2024.11.14. 17:00</td>\n",
       "      <td>경기도</td>\n",
       "      <td>경기 부천시 원미구</td>\n",
       "      <td>경기 부천시 원미구 원미동 201-14, 201-17, 201-18 수팰리스 2층 ...</td>\n",
       "      <td>다세대주택</td>\n",
       "      <td>67.15</td>\n",
       "      <td>190,800,000</td>\n",
       "      <td>15</td>\n",
       "      <td>no=2022388671</td>\n",
       "      <td>경기 부천시 원미구 원미동 201-14</td>\n",
       "      <td>37.488593</td>\n",
       "      <td>126.789558</td>\n",
       "    </tr>\n",
       "    <tr>\n",
       "      <th>120</th>\n",
       "      <td>2</td>\n",
       "      <td>20241031</td>\n",
       "      <td>2024.10.31. 10:00 ~ 2024.11.14. 17:00</td>\n",
       "      <td>경기도</td>\n",
       "      <td>경기 부천시 원미구</td>\n",
       "      <td>경기 부천시 원미구 원미동 42-1 해냄스토리주건축물 1동 10층 1002호</td>\n",
       "      <td>오피스텔(주거용)</td>\n",
       "      <td>57.87</td>\n",
       "      <td>226,800,000</td>\n",
       "      <td>36</td>\n",
       "      <td>no=2023205918</td>\n",
       "      <td>경기 부천시 원미구 원미동 42-1 해냄스토리주건축물 1동 10층 1002호</td>\n",
       "      <td>37.498914</td>\n",
       "      <td>126.789699</td>\n",
       "    </tr>\n",
       "    <tr>\n",
       "      <th>121</th>\n",
       "      <td>1</td>\n",
       "      <td>20241031</td>\n",
       "      <td>2024.10.31. 10:00 ~ 2024.11.14. 17:00</td>\n",
       "      <td>경기도</td>\n",
       "      <td>경기 부천시 원미구</td>\n",
       "      <td>경기 부천시 원미구 원미동 70-6, 70-7, 70-8 금강빌리지 4층 403호</td>\n",
       "      <td>다세대주택</td>\n",
       "      <td>50.65</td>\n",
       "      <td>171,900,000</td>\n",
       "      <td>14</td>\n",
       "      <td>no=2022346373</td>\n",
       "      <td>경기 부천시 원미구 원미동 70-6</td>\n",
       "      <td>37.497073</td>\n",
       "      <td>126.787095</td>\n",
       "    </tr>\n",
       "  </tbody>\n",
       "</table>\n",
       "<p>122 rows × 14 columns</p>\n",
       "</div>"
      ],
      "text/plain": [
       "      번호      공고일자                                청약 접수기간     시도         시군구  \\\n",
       "0    122  20241031  2024.10.31. 10:00 ~ 2024.11.14. 17:00  서울특별시      서울 강동구   \n",
       "1    121  20241031  2024.10.31. 10:00 ~ 2024.11.14. 17:00  서울특별시      서울 강서구   \n",
       "2    120  20241031  2024.10.31. 10:00 ~ 2024.11.14. 17:00  서울특별시      서울 강서구   \n",
       "3    119  20241031  2024.10.31. 10:00 ~ 2024.11.14. 17:00  서울특별시      서울 강서구   \n",
       "4    118  20241031  2024.10.31. 10:00 ~ 2024.11.14. 17:00  서울특별시      서울 강서구   \n",
       "..   ...       ...                                    ...    ...         ...   \n",
       "117    5  20241031  2024.10.31. 10:00 ~ 2024.11.14. 17:00    경기도  경기 부천시 원미구   \n",
       "118    4  20241031  2024.10.31. 10:00 ~ 2024.11.14. 17:00    경기도  경기 부천시 원미구   \n",
       "119    3  20241031  2024.10.31. 10:00 ~ 2024.11.14. 17:00    경기도  경기 부천시 원미구   \n",
       "120    2  20241031  2024.10.31. 10:00 ~ 2024.11.14. 17:00    경기도  경기 부천시 원미구   \n",
       "121    1  20241031  2024.10.31. 10:00 ~ 2024.11.14. 17:00    경기도  경기 부천시 원미구   \n",
       "\n",
       "                                                    주소       주택유형  전용면적(m2)  \\\n",
       "0                 서울 강동구 천호동 562, 562-1 스카이캐슬라 8층 802호      다세대주택     15.21   \n",
       "1                  서울 강서구 등촌동 637-19 라빌라스 101동 4층 402호  오피스텔(주거용)     29.99   \n",
       "2               서울 강서구 등촌동 643-16, 643-17 라테라스 4층 404호      다세대주택     33.51   \n",
       "3                      서울 강서구 화곡동 105-207 바로크빌 4층 402호      다세대주택     29.90   \n",
       "4            서울 강서구 화곡동 1111, 1111-1 에스제이라벨라 10층 1002호  오피스텔(주거용)     20.57   \n",
       "..                                                 ...        ...       ...   \n",
       "117               경기 부천시 원미구 원미동 169-1 수팰리스 B동 4층 403호      다세대주택     34.92   \n",
       "118          경기 부천시 원미구 원미동 200-2, 200-4 송원리치빌 4층 402호      다세대주택     58.20   \n",
       "119  경기 부천시 원미구 원미동 201-14, 201-17, 201-18 수팰리스 2층 ...      다세대주택     67.15   \n",
       "120         경기 부천시 원미구 원미동 42-1 해냄스토리주건축물 1동 10층 1002호  오피스텔(주거용)     57.87   \n",
       "121      경기 부천시 원미구 원미동 70-6, 70-7, 70-8 금강빌리지 4층 403호      다세대주택     50.65   \n",
       "\n",
       "          임대보증금액  신청자수        href_id  \\\n",
       "0    152,100,000   668  no=2023040345   \n",
       "1    210,600,000   161  no=2022367225   \n",
       "2    251,100,000   133  no=2022362498   \n",
       "3    142,200,000    62  no=2022348197   \n",
       "4    143,100,000   196  no=2023198064   \n",
       "..           ...   ...            ...   \n",
       "117  144,000,000     6  no=2022363045   \n",
       "118  154,800,000    11  no=2023204224   \n",
       "119  190,800,000    15  no=2022388671   \n",
       "120  226,800,000    36  no=2023205918   \n",
       "121  171,900,000    14  no=2022346373   \n",
       "\n",
       "                                        address          x           y  \n",
       "0                                서울 강동구 천호동 562  37.539597  127.130622  \n",
       "1           서울 강서구 등촌동 637-19 라빌라스 101동 4층 402호  37.556256  126.859242  \n",
       "2                             서울 강서구 등촌동 643-16  37.555297  126.859798  \n",
       "3               서울 강서구 화곡동 105-207 바로크빌 4층 402호  37.539887  126.844564  \n",
       "4                               서울 강서구 화곡동 1111  37.554948  126.852357  \n",
       "..                                          ...        ...         ...  \n",
       "117        경기 부천시 원미구 원미동 169-1 수팰리스 B동 4층 403호  37.494132  126.792039  \n",
       "118                        경기 부천시 원미구 원미동 200-2  37.488685  126.789119  \n",
       "119                       경기 부천시 원미구 원미동 201-14  37.488593  126.789558  \n",
       "120  경기 부천시 원미구 원미동 42-1 해냄스토리주건축물 1동 10층 1002호  37.498914  126.789699  \n",
       "121                         경기 부천시 원미구 원미동 70-6  37.497073  126.787095  \n",
       "\n",
       "[122 rows x 14 columns]"
      ]
     },
     "execution_count": 56,
     "metadata": {},
     "output_type": "execute_result"
    }
   ],
   "source": [
    "final_data0"
   ]
  },
  {
   "cell_type": "code",
   "execution_count": null,
   "id": "2c12e1fb",
   "metadata": {},
   "outputs": [],
   "source": [
    "final_data0.to_csv(f'data/crawling{service_date}_{current_str}_addcoord.csv', index = False, encoding = 'utf-8-sig')"
   ]
  },
  {
   "cell_type": "code",
   "execution_count": null,
   "id": "529dbc2b",
   "metadata": {},
   "outputs": [],
   "source": [
    "final_data0 = pd.read_csv(\"data/crawling20250326_250331_addcoord.csv\")"
   ]
  },
  {
   "cell_type": "markdown",
   "id": "a078439b",
   "metadata": {},
   "source": [
    "## 해당 매물 구조도 이미지 가져오기"
   ]
  },
  {
   "cell_type": "code",
   "execution_count": 57,
   "id": "85d2aa91-2262-4e99-aad3-5a62af42da35",
   "metadata": {},
   "outputs": [],
   "source": [
    "def get_img_link(href_id, dt='20241007', max_retries=3):\n",
    "    page_url = f\"https://www.khug.or.kr/jeonse/web/s07/s070103.jsp?dt={dt}&{href_id}\"\n",
    "    \n",
    "    for attempt in range(max_retries):\n",
    "        try:\n",
    "            # SSL 검증 비활성화 및 타임아웃 설정\n",
    "            response = requests.get(page_url, verify=False, timeout=10)\n",
    "            response.raise_for_status()\n",
    "            \n",
    "            bs_test = BeautifulSoup(response.content, 'html.parser')\n",
    "            img_src = bs_test.find(id='imgSor0')\n",
    "            \n",
    "            if img_src is not None:\n",
    "                return img_src.get('src')\n",
    "            \n",
    "            # 이미지를 찾지 못한 경우 짧은 대기 후 재시도\n",
    "            time.sleep(0.2)\n",
    "            \n",
    "        except Exception as e:\n",
    "            if attempt < max_retries - 1:\n",
    "                time.sleep(0.2)\n",
    "            else:\n",
    "                print(f\"Error fetching {href_id}: {e}\")\n",
    "                return None\n",
    "    \n",
    "    return None\n",
    "\n",
    "# SSL 경고 메시지 숨기기\n",
    "import urllib3\n",
    "urllib3.disable_warnings(urllib3.exceptions.InsecureRequestWarning)\n",
    "\n",
    "# 배치 처리 방식으로 이미지 링크 수집\n",
    "def get_all_img_links_batch(href_ids, dt='20241007', batch_size=5):\n",
    "    results = []\n",
    "    for i in tqdm(range(0, len(href_ids), batch_size)):\n",
    "        batch = href_ids[i:i + batch_size]\n",
    "        for href_id in batch:\n",
    "            img_link = get_img_link(href_id, dt)\n",
    "            results.append(img_link)\n",
    "        # 배치 처리 후 잠시 대기\n",
    "        time.sleep(1.5)\n",
    "    return results\n",
    "\n"
   ]
  },
  {
   "cell_type": "code",
   "execution_count": 58,
   "id": "73117c63-4338-4f54-8b15-798a3812b7c9",
   "metadata": {},
   "outputs": [
    {
     "data": {
      "application/vnd.jupyter.widget-view+json": {
       "model_id": "7910189388a3478ba5d3fd9b40bb66d7",
       "version_major": 2,
       "version_minor": 0
      },
      "text/plain": [
       "  0%|          | 0/122 [00:00<?, ?it/s]"
      ]
     },
     "metadata": {},
     "output_type": "display_data"
    }
   ],
   "source": [
    "# 실행\n",
    "imgs = get_all_img_links_batch(final_data0.href_id.values, dt=service_date, batch_size=5)"
   ]
  },
  {
   "cell_type": "code",
   "execution_count": 59,
   "id": "0ca933db-d4c3-4ee0-953a-962fe3b19248",
   "metadata": {},
   "outputs": [],
   "source": [
    "final_data = final_data0.assign(img = imgs)"
   ]
  },
  {
   "cell_type": "code",
   "execution_count": 60,
   "id": "5e1cd0f7-0f96-49d7-9460-a38ad73b78f7",
   "metadata": {},
   "outputs": [],
   "source": [
    "final_data.to_csv(f'data/data{service_date}_{current_str}.csv', index = False, encoding = 'utf-8-sig')"
   ]
  },
  {
   "cell_type": "code",
   "execution_count": 61,
   "id": "724f2fe1-344d-41ef-b3dd-6a8a142cc154",
   "metadata": {},
   "outputs": [
    {
     "data": {
      "text/html": [
       "<div>\n",
       "<style scoped>\n",
       "    .dataframe tbody tr th:only-of-type {\n",
       "        vertical-align: middle;\n",
       "    }\n",
       "\n",
       "    .dataframe tbody tr th {\n",
       "        vertical-align: top;\n",
       "    }\n",
       "\n",
       "    .dataframe thead th {\n",
       "        text-align: right;\n",
       "    }\n",
       "</style>\n",
       "<table border=\"1\" class=\"dataframe\">\n",
       "  <thead>\n",
       "    <tr style=\"text-align: right;\">\n",
       "      <th></th>\n",
       "      <th>번호</th>\n",
       "      <th>공고일자</th>\n",
       "      <th>청약 접수기간</th>\n",
       "      <th>시도</th>\n",
       "      <th>시군구</th>\n",
       "      <th>주소</th>\n",
       "      <th>주택유형</th>\n",
       "      <th>전용면적(m2)</th>\n",
       "      <th>임대보증금액</th>\n",
       "      <th>신청자수</th>\n",
       "      <th>href_id</th>\n",
       "      <th>address</th>\n",
       "      <th>x</th>\n",
       "      <th>y</th>\n",
       "      <th>img</th>\n",
       "    </tr>\n",
       "  </thead>\n",
       "  <tbody>\n",
       "    <tr>\n",
       "      <th>0</th>\n",
       "      <td>122</td>\n",
       "      <td>20241031</td>\n",
       "      <td>2024.10.31. 10:00 ~ 2024.11.14. 17:00</td>\n",
       "      <td>서울특별시</td>\n",
       "      <td>서울 강동구</td>\n",
       "      <td>서울 강동구 천호동 562, 562-1 스카이캐슬라 8층 802호</td>\n",
       "      <td>다세대주택</td>\n",
       "      <td>15.21</td>\n",
       "      <td>152,100,000</td>\n",
       "      <td>668</td>\n",
       "      <td>no=2023040345</td>\n",
       "      <td>서울 강동구 천호동 562</td>\n",
       "      <td>37.539597</td>\n",
       "      <td>127.130622</td>\n",
       "      <td>http://www.khug.or.kr/updata/khgc/khgccms/cms/...</td>\n",
       "    </tr>\n",
       "  </tbody>\n",
       "</table>\n",
       "</div>"
      ],
      "text/plain": [
       "    번호      공고일자                                청약 접수기간     시도     시군구  \\\n",
       "0  122  20241031  2024.10.31. 10:00 ~ 2024.11.14. 17:00  서울특별시  서울 강동구   \n",
       "\n",
       "                                     주소   주택유형  전용면적(m2)       임대보증금액  신청자수  \\\n",
       "0  서울 강동구 천호동 562, 562-1 스카이캐슬라 8층 802호  다세대주택     15.21  152,100,000   668   \n",
       "\n",
       "         href_id         address          x           y  \\\n",
       "0  no=2023040345  서울 강동구 천호동 562  37.539597  127.130622   \n",
       "\n",
       "                                                 img  \n",
       "0  http://www.khug.or.kr/updata/khgc/khgccms/cms/...  "
      ]
     },
     "execution_count": 61,
     "metadata": {},
     "output_type": "execute_result"
    }
   ],
   "source": [
    "final_data.head(1)"
   ]
  },
  {
   "cell_type": "code",
   "execution_count": 62,
   "id": "c71a2a79-c875-4675-b6bc-110223eae299",
   "metadata": {},
   "outputs": [],
   "source": [
    "processing_data = pd.read_csv(f'data/data{service_date}_{current_str}.csv')"
   ]
  },
  {
   "cell_type": "markdown",
   "id": "3926be02",
   "metadata": {},
   "source": [
    "## 지하철 역 거리 계산"
   ]
  },
  {
   "cell_type": "code",
   "execution_count": 63,
   "id": "f8feb99b-337e-4eba-9bef-ec50ec3a21b6",
   "metadata": {},
   "outputs": [],
   "source": [
    "import geopandas as gpd\n",
    "from shapely.geometry import Point\n",
    "import shapely"
   ]
  },
  {
   "cell_type": "code",
   "execution_count": 64,
   "id": "52ccf595-33b2-4c1c-bc04-19b7b6103ce2",
   "metadata": {},
   "outputs": [],
   "source": [
    "processing_final = processing_data.assign(\n",
    "    deposit = lambda df: df['임대보증금액'].apply(lambda x: int(x.replace(',', ''))/10000),\n",
    "    m2 = lambda df: df['전용면적(m2)'],\n",
    "    deposit_m2 = lambda df: df.deposit/df.m2)\n"
   ]
  },
  {
   "cell_type": "code",
   "execution_count": 65,
   "id": "eefbe98d-c273-424e-b7a3-b94a01b90b23",
   "metadata": {},
   "outputs": [],
   "source": [
    "processing_final.columns\n"
   ]
  },
  {
   "cell_type": "code",
   "execution_count": 66,
   "id": "6bbd462d-48e7-49df-87b2-f0d34f8da8d2",
   "metadata": {},
   "outputs": [],
   "source": [
    "sample_x, sample_y = processing_final.loc[0,['x', 'y']]"
   ]
  },
  {
   "cell_type": "code",
   "execution_count": 67,
   "id": "2fbfc719-18a6-4c6e-bc30-73c093770f16",
   "metadata": {},
   "outputs": [],
   "source": [
    "def find_near_subway_station(x, y, max_distance = 3000):\n",
    "    time.sleep(0.2)\n",
    "    results = kakaomap.search_by_category('SW8', y, x, 3000) # 위경도 바꿔어서 입력\n",
    "    if len(results.get('documents'))!=0:\n",
    "        near_result = results.get('documents')[0]\n",
    "        return near_result.get('distance'), near_result.get('place_name')\n",
    "    else:\n",
    "        print('no result')\n",
    "    "
   ]
  },
  {
   "cell_type": "code",
   "execution_count": 68,
   "id": "9229a10f-ab97-4e03-8cba-950e21115cb5",
   "metadata": {},
   "outputs": [],
   "source": [
    "near_stations = [find_near_subway_station(row.x, row.y) for row in tqdm(processing_final.itertuples(), total = processing_final.shape[0])]"
   ]
  },
  {
   "cell_type": "code",
   "execution_count": 69,
   "id": "dd228db0-b554-44d7-a729-c2c1b7ae4f6f",
   "metadata": {},
   "outputs": [],
   "source": [
    "final = pd.concat([processing_final, pd.DataFrame(near_stations, columns = [\"distanceM_near_station\", \"near_station\"])], axis=1)"
   ]
  },
  {
   "cell_type": "code",
   "execution_count": null,
   "id": "e53ac1d5",
   "metadata": {},
   "outputs": [],
   "source": [
    "final.to_csv(f'data/data{service_date}_{current_str}_addstation.csv', index = False, encoding = 'utf-8-sig')"
   ]
  },
  {
   "cell_type": "code",
   "execution_count": 70,
   "id": "a43ed59b-e978-429f-af8c-098f9065da1d",
   "metadata": {
    "scrolled": true
   },
   "outputs": [],
   "source": [
    "final = pd.read_csv(f'data/data{service_date}_{current_str}_addstation.csv')"
   ]
  },
  {
   "cell_type": "markdown",
   "id": "a97dd961",
   "metadata": {},
   "source": [
    "## 통근시간 계산"
   ]
  },
  {
   "cell_type": "code",
   "execution_count": 86,
   "id": "60f96071-03ac-4023-bb7d-b6f0c2232944",
   "metadata": {},
   "outputs": [],
   "source": [
    "from dateutil import relativedelta\n",
    "tomorrow = current_date+relativedelta.relativedelta(days=1)"
   ]
  },
  {
   "cell_type": "code",
   "execution_count": 118,
   "id": "2c02db41-1254-47ae-bf97-b1e42f6764b1",
   "metadata": {},
   "outputs": [],
   "source": [
    "comp_x, comp_y =  37.5058315272521, 127.040806473603\n"
   ]
  },
  {
   "cell_type": "code",
   "execution_count": 139,
   "id": "58fcde98-4211-48b1-aa9b-bf1ef02f427c",
   "metadata": {},
   "outputs": [
    {
     "data": {
      "application/vnd.jupyter.widget-view+json": {
       "model_id": "6ef7797df174414dba8b6344d624dbf7",
       "version_major": 2,
       "version_minor": 0
      },
      "text/plain": [
       "  0%|          | 0/122 [00:00<?, ?it/s]"
      ]
     },
     "metadata": {},
     "output_type": "display_data"
    }
   ],
   "source": [
    "expected_times = [kakaomap.calculate_transit_time(i.y, i.x, comp_y, comp_x) for i in tqdm(final.itertuples(), total = final.shape[0])]"
   ]
  },
  {
   "cell_type": "code",
   "execution_count": 144,
   "id": "dedef583-0632-45b3-b132-32bd0f010d3c",
   "metadata": {},
   "outputs": [],
   "source": [
    "final_csv = pd.concat([final, pd.DataFrame(expected_times, columns = ['expected_time', 'distance_comp'])], axis=1)\n",
    "final_csv.to_csv(f'data/final{service_date}_{current_str}.csv', index = False, encoding='utf-8-sig')"
   ]
  },
  {
   "cell_type": "markdown",
   "id": "2f2f7b4a",
   "metadata": {},
   "source": [
    "## 신청자수 업데이트"
   ]
  },
  {
   "cell_type": "code",
   "execution_count": null,
   "id": "c0ecc189",
   "metadata": {},
   "outputs": [],
   "source": [
    "list_num = 50\n",
    "datas = [parse_onepage(n) for n in tqdm(range(1,list_num+1))]"
   ]
  },
  {
   "cell_type": "code",
   "execution_count": null,
   "id": "0a921d62",
   "metadata": {},
   "outputs": [],
   "source": [
    "final_data = pd.concat(datas).reset_index(drop=True).assign(address = lambda df: df['주소'].apply(lambda x: x.split('  ')[0] if ',' not in x else  x.split('  ')[0].split(',')[0])\n",
    "                                               # .apply(lambda x: ' '.join([i for i in x.split(' ') if i !='']))\n",
    "                                              )\n",
    "final_data.to_csv(f'data/crawling{service_date}_{current_str}.csv', index = False, encoding = 'utf-8-sig')\n",
    "csv_list = sorted(glob.glob(f\"data/final{service_date}_*.csv\"))\n",
    "final_csv=pd.read_csv(csv_list[-1])"
   ]
  },
  {
   "cell_type": "code",
   "execution_count": null,
   "id": "9bbae20d",
   "metadata": {},
   "outputs": [],
   "source": [
    "final_csv0 = final_csv.drop(columns = '신청자수')\n",
    "final_csv0['신청자수'] = final_data['신청자수']\n",
    "final_csv0.to_csv(f'data/final{service_date}_{current_str}.csv', index = False, encoding='utf-8-sig')"
   ]
  },
  {
   "cell_type": "markdown",
   "id": "fc6c593b",
   "metadata": {},
   "source": [
    "## 이미지 다운로드 및 llm 기반 방구조도 분석"
   ]
  },
  {
   "cell_type": "code",
   "execution_count": null,
   "id": "24ffb8f2",
   "metadata": {},
   "outputs": [],
   "source": [
    "from PIL import Image\n",
    "from langchain_core.messages import HumanMessage\n",
    "from langchain_google_genai import ChatGoogleGenerativeAI\n",
    "from langchain_openai import ChatOpenAI\n",
    "import io\n",
    "import base64\n",
    "import glob\n",
    "from langchain_core.output_parsers import PydanticOutputParser\n",
    "from pydantic import BaseModel, Field"
   ]
  },
  {
   "cell_type": "code",
   "execution_count": null,
   "id": "f4e08c91",
   "metadata": {},
   "outputs": [],
   "source": [
    "class RoomDecription(BaseModel):\n",
    "    num_room: int = Field(description=\"방의 수\")\n",
    "    num_balcony: int = Field(description=\"발코니 수\")\n",
    "    num_wc: int = Field(description=\"화장실 수\")\n",
    "    description: str = Field(description=\"방구조에 대한 설명\")\n",
    "parser = PydanticOutputParser(pydantic_object=RoomDecription)\n",
    "\n",
    "def describe_img(img_url):\n",
    "    response = requests.get(img_url)\n",
    "    if response.status_code != 200:\n",
    "        print(f\"이미지 다운로드 실패: {response.status_code}\")\n",
    "    \n",
    "    # 이미지를 base64로 인코딩\n",
    "    image = Image.open(io.BytesIO(response.content))\n",
    "    buffered = io.BytesIO()\n",
    "    image.save(buffered, format=\"PNG\")\n",
    "    img_str = base64.b64encode(buffered.getvalue()).decode()\n",
    "    \n",
    "    # 다중 모달 메시지 구성\n",
    "    message = HumanMessage(\n",
    "        content=[\n",
    "            {\n",
    "                \"type\": \"text\",\n",
    "                \"text\": \"\"\"\n",
    "                다음 이미지는 방구조도 이미지입니다. 한글로 방의 구조를 설명해주세요.\n",
    "                 - 빨간색 테두리가 있거나 붉은색으로 표시되어 있다면 해당 방만 설명해주세요.\n",
    "                 - 방구조에 대한 설명은 불렛포인트를 사용해서 자세히 출력해주세요.\n",
    "                 - 방이나 화장실의 갯수를 알려주세요.\n",
    "                 - 이미지의 기반한 내용만 알려주세요.\n",
    "                 - 다음 json 포맷에 맞게 출력해주세요.\n",
    "                 ```json\n",
    "                {{\n",
    "                num_room:(방의 수),\n",
    "                num_balcony:(발코니 수),\n",
    "                num_wc:(화장실 수),\n",
    "                description:(방구조 설명)\n",
    "                }}\n",
    "                 ```\n",
    "                \"\"\"\n",
    "            },\n",
    "            {\n",
    "                \"type\": \"image_url\",\n",
    "                \"image_url\": {\"url\": f\"data:image/png;base64,{img_str}\"},\n",
    "            },\n",
    "        ],\n",
    "    )\n",
    "    llm = ChatGoogleGenerativeAI(model='gemini-2.0-flash-lite')\n",
    "    ans = llm.invoke([message])\n",
    "    try:\n",
    "        info = parser.parse(ans.content)\n",
    "        return info\n",
    "    except:\n",
    "        print(\"JSON 파싱 실패\")\n",
    "        return None"
   ]
  },
  {
   "cell_type": "code",
   "execution_count": null,
   "id": "1dc737f3",
   "metadata": {},
   "outputs": [],
   "source": [
    "iterator_rows = final_csv.itertuples()\n",
    "sample = next(iterator_rows)\n",
    "sample"
   ]
  },
  {
   "cell_type": "code",
   "execution_count": null,
   "id": "9ddfb6b7",
   "metadata": {},
   "outputs": [],
   "source": [
    "ans = describe_img(sample.img)"
   ]
  },
  {
   "cell_type": "markdown",
   "id": "29eaf2a5",
   "metadata": {},
   "source": [
    "### 이미지 다운로드 "
   ]
  },
  {
   "cell_type": "code",
   "execution_count": null,
   "id": "99c93a6e",
   "metadata": {},
   "outputs": [],
   "source": [
    "def download_image(img_url, save_path, filename, max_retries=3, timeout=30):\n",
    "    for attempt in range(max_retries):\n",
    "        try:\n",
    "            # SSL 검증 비활성화 및 타임아웃 설정\n",
    "            response = requests.get(img_url, verify=False, timeout=timeout)\n",
    "            response.raise_for_status()\n",
    "            \n",
    "            os.makedirs(save_path, exist_ok=True)\n",
    "            file_path = os.path.join(save_path, filename)\n",
    "            \n",
    "            with open(file_path, 'wb') as f:\n",
    "                f.write(response.content)\n",
    "            return True\n",
    "            \n",
    "        except requests.Timeout:\n",
    "            if attempt < max_retries - 1:\n",
    "                print(f\"타임아웃 발생 ({filename}), {attempt + 1}/{max_retries} 재시도\")\n",
    "                time.sleep(2)  # 타임아웃 발생 시 더 긴 대기\n",
    "            else:\n",
    "                print(f\"최대 타임아웃 재시도 횟수 초과 ({filename})\")\n",
    "                return False\n",
    "                \n",
    "        except Exception as e:\n",
    "            if attempt < max_retries - 1:\n",
    "                print(f\"다운로드 시도 {attempt + 1}/{max_retries} 실패: {e}\")\n",
    "                time.sleep(1)\n",
    "            else:\n",
    "                print(f\"최대 재시도 횟수 초과 ({filename}): {e}\")\n",
    "                return False\n",
    "\n",
    "def download_images_batch(df, batch_size=2, save_path='downloaded_images', max_retries=3, \n",
    "                         timeout=30, delay_between_batches=3):\n",
    "    downloaded_paths = []\n",
    "    \n",
    "    # 이미지 다운로드\n",
    "    for i in tqdm(range(0, df.shape[0], batch_size), desc=\"이미지 다운로드 중\"):\n",
    "        batch = df.loc[i:i + batch_size, :]\n",
    "        \n",
    "        for row in batch.itertuples():\n",
    "            img_url = row.img\n",
    "            if img_url:\n",
    "                filename = f\"{row.번호}.jpg\"\n",
    "                if download_image(img_url, save_path, filename, max_retries=max_retries, timeout=timeout):\n",
    "                    downloaded_paths.append(os.path.join(save_path, filename))\n",
    "                else:\n",
    "                    print(f\"이미지 다운로드 실패: {filename}\")\n",
    "        \n",
    "        # 배치 처리 후 대기\n",
    "        time.sleep(delay_between_batches)\n",
    "        \n",
    "        # # 진행 상황 저장 (선택사항)\n",
    "        # progress = {\n",
    "        #     'downloaded': downloaded_paths,\n",
    "        #     'current_index': i + batch_size\n",
    "        # }\n",
    "        # with open('download_progress.json', 'w') as f:\n",
    "        #     json.dump(progress, f)\n",
    "    \n",
    "    return downloaded_paths\n",
    "\n"
   ]
  },
  {
   "cell_type": "code",
   "execution_count": null,
   "id": "437103df",
   "metadata": {},
   "outputs": [],
   "source": [
    "# 실행\n",
    "downloaded_paths = download_images_batch(\n",
    "    final_csv.loc[:30,:], \n",
    "    batch_size=3,  # 배치 사이즈\n",
    "    max_retries=3,\n",
    "    timeout=30,    # 타임아웃 시간\n",
    "    delay_between_batches=5  # 배치 간 대기 시간\n",
    ")"
   ]
  }
 ],
 "metadata": {
  "kernelspec": {
   "display_name": "Python 3 (ipykernel)",
   "language": "python",
   "name": "python3"
  },
  "language_info": {
   "codemirror_mode": {
    "name": "ipython",
    "version": 3
   },
   "file_extension": ".py",
   "mimetype": "text/x-python",
   "name": "python",
   "nbconvert_exporter": "python",
   "pygments_lexer": "ipython3",
   "version": "3.10.12"
  }
 },
 "nbformat": 4,
 "nbformat_minor": 5
}
