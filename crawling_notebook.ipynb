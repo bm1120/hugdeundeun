{
 "cells": [
  {
   "cell_type": "code",
   "execution_count": 95,
   "id": "043ca6bb-d69a-46bd-b191-bcda74d519f3",
   "metadata": {},
   "outputs": [],
   "source": [
    "import requests\n",
    "from bs4 import BeautifulSoup\n",
    "import re\n",
    "import pandas as pd\n",
    "import numpy as np\n",
    "import time\n",
    "from tqdm.notebook import tqdm "
   ]
  },
  {
   "cell_type": "code",
   "execution_count": 96,
   "id": "26fd21ea-009d-46d9-a198-95a4781359e9",
   "metadata": {},
   "outputs": [],
   "source": [
    "def parse_oneline(txt):\n",
    "    output = [i for i in txt.split('\\n')]\n",
    "    return output\n",
    "\n",
    "def parse_onepage(page_num):\n",
    "    html=requests.get(f\"https://www.khug.or.kr/jeonse/web/s07/s070102.jsp?cur_page={page_num}\")\n",
    "    tb_TF = False\n",
    "    try_cnt=0\n",
    "    while not tb_TF:\n",
    "        if try_cnt>300:\n",
    "            raise\n",
    "        time.sleep(1) \n",
    "        bs_test = BeautifulSoup(html.text, 'html.parser')\n",
    "        if bs_test.find('table'):\n",
    "            tb_TF = True \n",
    "        else:\n",
    "            tb_TF = False\n",
    "        try_cnt+=1\n",
    "        \n",
    "    tables = bs_test.find('table')\n",
    "    thead = tables.find('thead')\n",
    "    tab_cols = parse_oneline(thead.get_text().strip())\n",
    "    tbody = tables.find('tbody')\n",
    "    output_tab = pd.DataFrame([parse_oneline(i.strip()) for i in tbody.get_text().strip().split('\\n\\n')], columns=tab_cols)\n",
    "    output_tab = output_tab.assign(href_id = np.unique([re.search('no=\\d{10}', i['href']).group() for i in tbody.find_all(href=True)]))\n",
    "    return output_tab"
   ]
  },
  {
   "cell_type": "code",
   "execution_count": 97,
   "id": "2f26ac1f-9970-4bfa-b1ce-41d4422f5456",
   "metadata": {},
   "outputs": [
    {
     "data": {
      "application/vnd.jupyter.widget-view+json": {
       "model_id": "019e80fc5e1a40fd909ba0347a61571d",
       "version_major": 2,
       "version_minor": 0
      },
      "text/plain": [
       "  0%|          | 0/6 [00:00<?, ?it/s]"
      ]
     },
     "metadata": {},
     "output_type": "display_data"
    }
   ],
   "source": [
    "list_num = 11\n",
    "datas = [parse_onepage(n) for n in tqdm(range(1,list_num+1))]"
   ]
  },
  {
   "cell_type": "code",
   "execution_count": 98,
   "id": "f2ebd238-397f-421e-9742-76fd6a46f6a1",
   "metadata": {},
   "outputs": [],
   "source": [
    "final_data = pd.concat(datas).reset_index(drop=True).assign(address = lambda df: df['주소'].apply(lambda x: x.split('  ')[0] if ',' not in x else  x.split('  ')[0].split(',')[0])\n",
    "                                               # .apply(lambda x: ' '.join([i for i in x.split(' ') if i !='']))\n",
    "                                              )"
   ]
  },
  {
   "cell_type": "code",
   "execution_count": 99,
   "id": "46b984f0-254a-446a-a945-356d8e228879",
   "metadata": {},
   "outputs": [],
   "source": [
    "# def find_coordinates(address):\n",
    "#     time.sleep(1)\n",
    "#     apiurl = \"https://api.vworld.kr/req/address?\"\n",
    "#     params = {\n",
    "#     \t\"service\": \"address\",\n",
    "#     \t\"request\": \"getcoord\",\n",
    "#     \t\"crs\": \"epsg:5186\",\n",
    "#     \t\"address\": address,\n",
    "#     \t\"format\": \"json\",\n",
    "#     \t\"type\": \"parcel\",\n",
    "#     \t\"key\": \"{vworld-key}\"\n",
    "#     }\n",
    "#     response = requests.get(apiurl, params=params)\n",
    "#     if response.status_code == 200:\n",
    "#         result = response.json()['response']\n",
    "#         # print(result)\n",
    "#         if 'result' in result.keys():\n",
    "#             return result['result']['point']['x'], result['result']['point']['y']\n",
    "#         else:\n",
    "#             return 0,0\n",
    "\n",
    "\n",
    "import requests\n",
    "def set_rest_api(rest_api_token):\n",
    "    def convert_address_to_coordinates(address):\n",
    "        \"\"\"\n",
    "        입력받은 주소를 WGS84 좌표계 좌표로 변환(카카오맵api)\n",
    "        \"\"\"\n",
    "    \n",
    "        url = 'https://dapi.kakao.com/v2/local/search/address.json?query=' + address\n",
    "        \n",
    "        header = {'Authorization': 'KakaoAK ' + rest_api_token}\n",
    "     \n",
    "        r = requests.get(url, headers=header)\n",
    "        \n",
    "        if (r.status_code == 200) and len(r.json()[\"documents\"])>0:\n",
    "            lng = float(r.json()[\"documents\"][0][\"address\"]['x'])\n",
    "            lat = float(r.json()[\"documents\"][0][\"address\"]['y'])\n",
    "        else:\n",
    "            return None\n",
    "        return lat, lng\n",
    "        \n",
    "    return convert_address_to_coordinates\n",
    "\n",
    "kakao_api_key = \"\"\n",
    "convert_address_to_coordinates = set_rest_api(kakao_api_key)"
   ]
  },
  {
   "cell_type": "code",
   "execution_count": 100,
   "id": "2523e74a-b79c-481f-8246-15201f889a16",
   "metadata": {},
   "outputs": [
    {
     "data": {
      "text/plain": [
       "('191450.441540966', '541949.351182625')"
      ]
     },
     "execution_count": 100,
     "metadata": {},
     "output_type": "execute_result"
    }
   ],
   "source": [
    "find_coordinates(final_data.address.values[0])"
   ]
  },
  {
   "cell_type": "code",
   "execution_count": 101,
   "id": "1692036e-d224-461b-bcda-9e2e4f724f0d",
   "metadata": {
    "scrolled": true
   },
   "outputs": [
    {
     "data": {
      "application/vnd.jupyter.widget-view+json": {
       "model_id": "68842e29c4ea4a1db05eb2cdeaffe2b0",
       "version_major": 2,
       "version_minor": 0
      },
      "text/plain": [
       "  0%|          | 0/52 [00:00<?, ?it/s]"
      ]
     },
     "metadata": {},
     "output_type": "display_data"
    }
   ],
   "source": [
    "coordinates = [find_coordinates(i) for i in tqdm(final_data.address.values)]"
   ]
  },
  {
   "cell_type": "code",
   "execution_count": 102,
   "id": "aeae6f40-4949-4eea-bc93-7fce4ee48b20",
   "metadata": {},
   "outputs": [],
   "source": [
    "final_data0 = pd.concat([final_data, pd.DataFrame(coordinates, columns = ['x','y'])], axis=1)"
   ]
  },
  {
   "cell_type": "code",
   "execution_count": 103,
   "id": "85d2aa91-2262-4e99-aad3-5a62af42da35",
   "metadata": {},
   "outputs": [],
   "source": [
    "def get_img_link(href_id,  dt='20241007'):\n",
    "    time.sleep(1) \n",
    "    page_url = f\"https://www.khug.or.kr/jeonse/web/s07/s070103.jsp?dt={dt}&{href_id}\"\n",
    "    html=requests.get(page_url)\n",
    "    bs_test = BeautifulSoup(html.content, 'html.parser')\n",
    "    img_src = bs_test.find(id = 'imgSor0')\n",
    "    img_link = img_src.get('src')\n",
    "    return img_link"
   ]
  },
  {
   "cell_type": "code",
   "execution_count": 104,
   "id": "0ca933db-d4c3-4ee0-953a-962fe3b19248",
   "metadata": {},
   "outputs": [],
   "source": [
    "final_data = final_data0.assign(img = lambda df: df.href_id.apply(lambda x: get_img_link(x)))"
   ]
  },
  {
   "cell_type": "code",
   "execution_count": 105,
   "id": "5e1cd0f7-0f96-49d7-9460-a38ad73b78f7",
   "metadata": {},
   "outputs": [],
   "source": [
    "final_data.to_csv('data/data_241007.csv', index = False, encoding = 'utf-8-sig')"
   ]
  },
  {
   "cell_type": "code",
   "execution_count": 106,
   "id": "724f2fe1-344d-41ef-b3dd-6a8a142cc154",
   "metadata": {},
   "outputs": [
    {
     "data": {
      "text/html": [
       "<div>\n",
       "<style scoped>\n",
       "    .dataframe tbody tr th:only-of-type {\n",
       "        vertical-align: middle;\n",
       "    }\n",
       "\n",
       "    .dataframe tbody tr th {\n",
       "        vertical-align: top;\n",
       "    }\n",
       "\n",
       "    .dataframe thead th {\n",
       "        text-align: right;\n",
       "    }\n",
       "</style>\n",
       "<table border=\"1\" class=\"dataframe\">\n",
       "  <thead>\n",
       "    <tr style=\"text-align: right;\">\n",
       "      <th></th>\n",
       "      <th>번호</th>\n",
       "      <th>공고일자</th>\n",
       "      <th>청약 접수기간</th>\n",
       "      <th>시도</th>\n",
       "      <th>시군구</th>\n",
       "      <th>주소</th>\n",
       "      <th>주택유형</th>\n",
       "      <th>전용면적(m2)</th>\n",
       "      <th>임대보증금액</th>\n",
       "      <th>신청자수</th>\n",
       "      <th>href_id</th>\n",
       "      <th>address</th>\n",
       "      <th>x</th>\n",
       "      <th>y</th>\n",
       "      <th>img</th>\n",
       "    </tr>\n",
       "  </thead>\n",
       "  <tbody>\n",
       "    <tr>\n",
       "      <th>0</th>\n",
       "      <td>52</td>\n",
       "      <td>20240830</td>\n",
       "      <td>2024.08.30. 10:00 ~ 2024.09.13. 17:00</td>\n",
       "      <td>서울특별시</td>\n",
       "      <td>서울 금천구</td>\n",
       "      <td>서울 금천구 독산동 962-32                             ...</td>\n",
       "      <td>오피스텔(주거용)</td>\n",
       "      <td>42.06</td>\n",
       "      <td>207,000,000</td>\n",
       "      <td>1224</td>\n",
       "      <td>no=2021352488</td>\n",
       "      <td>서울 금천구 독산동 962-32</td>\n",
       "      <td>191450.441540966</td>\n",
       "      <td>541949.351182625</td>\n",
       "      <td>http://www.khug.or.kr/updata/khgc/khgccms/cms/...</td>\n",
       "    </tr>\n",
       "  </tbody>\n",
       "</table>\n",
       "</div>"
      ],
      "text/plain": [
       "   번호      공고일자                                청약 접수기간     시도     시군구  \\\n",
       "0  52  20240830  2024.08.30. 10:00 ~ 2024.09.13. 17:00  서울특별시  서울 금천구   \n",
       "\n",
       "                                                  주소       주택유형 전용면적(m2)  \\\n",
       "0  서울 금천구 독산동 962-32                             ...  오피스텔(주거용)    42.06   \n",
       "\n",
       "        임대보증금액  신청자수        href_id            address                 x  \\\n",
       "0  207,000,000  1224  no=2021352488  서울 금천구 독산동 962-32  191450.441540966   \n",
       "\n",
       "                  y                                                img  \n",
       "0  541949.351182625  http://www.khug.or.kr/updata/khgc/khgccms/cms/...  "
      ]
     },
     "execution_count": 106,
     "metadata": {},
     "output_type": "execute_result"
    }
   ],
   "source": [
    "final_data.head(1)"
   ]
  }
 ],
 "metadata": {
  "kernelspec": {
   "display_name": "Python 3 (ipykernel)",
   "language": "python",
   "name": "python3"
  },
  "language_info": {
   "codemirror_mode": {
    "name": "ipython",
    "version": 3
   },
   "file_extension": ".py",
   "mimetype": "text/x-python",
   "name": "python",
   "nbconvert_exporter": "python",
   "pygments_lexer": "ipython3",
   "version": "3.10.12"
  }
 },
 "nbformat": 4,
 "nbformat_minor": 5
}
